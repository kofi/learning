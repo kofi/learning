{
 "cells": [
  {
   "cell_type": "markdown",
   "metadata": {},
   "source": [
    "# Handsigns using tensorflow - recreation"
   ]
  },
  {
   "cell_type": "markdown",
   "metadata": {},
   "source": [
    "This is an exercice to convert the Tensorflow based model in the OpenAI CNN course by Andrew Ng to a PyTorch based model.\n",
    "\n",
    "For some function calls there are no direct equivalencies between the two frameworks. Examples include\n",
    "* \"SAME\" padding in Tensorflow. In PyTorch you have to precompute the equivalent padding needed. In this model i use just pick a 0 or 1 padding\n",
    "* No Need to define a backward propagation function. This handled by autograd\n",
    "* The cost function softmax_cross_entropy_with_logits in Tensorflow. Replaced that with CrossEntroyLoss\n",
    "* CrossEntropy loss expects a tensor of class indices not one-hot encoded data so we have to change that data\n",
    "* Pytorch expects images to be in the format (channels x height x width). Tensorflow utilizes (height x width x channels)  \n",
    "\n",
    "\n"
   ]
  },
  {
   "cell_type": "code",
   "execution_count": 1,
   "metadata": {},
   "outputs": [
    {
     "name": "stderr",
     "output_type": "stream",
     "text": [
      "/Users/kofi/anaconda/envs/python36/lib/python3.6/site-packages/h5py/__init__.py:36: FutureWarning: Conversion of the second argument of issubdtype from `float` to `np.floating` is deprecated. In future, it will be treated as `np.float64 == np.dtype(float).type`.\n",
      "  from ._conv import register_converters as _register_converters\n"
     ]
    }
   ],
   "source": [
    "import math\n",
    "import numpy as np\n",
    "import h5py\n",
    "import matplotlib.pyplot as plt\n",
    "import scipy\n",
    "from PIL import Image\n",
    "from scipy import ndimage\n",
    "import tensorflow as tf\n",
    "from tensorflow.python.framework import ops\n",
    "from cnn_utils import *\n",
    "\n",
    "# for python torch\n",
    "import torch \n",
    "import torch.nn as nn\n",
    "import torch.nn.functional as F\n",
    "import torch.optim as optim\n",
    "import torchvision\n",
    "import torchvision.transforms as transforms\n",
    "\n",
    "from torch.utils.data.dataset import Dataset\n",
    "from torch.utils.data import DataLoader\n",
    "\n",
    "%matplotlib inline\n",
    "np.random.seed(1)\n"
   ]
  },
  {
   "cell_type": "code",
   "execution_count": 25,
   "metadata": {},
   "outputs": [],
   "source": [
    "IMG_WIDTH = 64\n",
    "IMG_HEIGHT = 63\n",
    "NUM_CHANNELS = 3"
   ]
  },
  {
   "cell_type": "code",
   "execution_count": 2,
   "metadata": {},
   "outputs": [],
   "source": [
    "# Use CUDA for PyTorch?\n",
    "use_cuda = torch.cuda.is_available()\n",
    "device = torch.device(\"cuda:0\" if use_cuda else \"cpu\")\n",
    "#cudnn.benchmark = True"
   ]
  },
  {
   "cell_type": "code",
   "execution_count": 3,
   "metadata": {},
   "outputs": [],
   "source": [
    "# Load the dataset\n",
    "train_dataset = h5py.File('datasets/train_signs.h5', \"r\")\n",
    "train_set_x_orig = np.array(train_dataset[\"train_set_x\"][:]) # training set of features\n",
    "train_set_y_orig = np.array(train_dataset[\"train_set_y\"][:]) # training set of labels\n",
    "\n",
    "test_dataset = h5py.File('datasets/test_signs.h5', \"r\")\n",
    "test_set_x_orig = np.array(test_dataset[\"test_set_x\"][:]) # test set of features\n",
    "test_set_y_orig = np.array(test_dataset[\"test_set_y\"][:]) # test set of labels\n",
    "\n",
    "classes = np.array(test_dataset[\"list_classes\"][:]) # the list of classes\n",
    "\n",
    "X_train_orig, Y_train_orig, X_test_orig, Y_test_orig = train_set_x_orig, train_set_y_orig, test_set_x_orig, test_set_y_orig\n",
    "#return train_set_x_orig, train_set_y_orig, test_set_x_orig, test_set_y_orig, classes"
   ]
  },
  {
   "cell_type": "code",
   "execution_count": 4,
   "metadata": {},
   "outputs": [],
   "source": [
    "# Reshape the training and test set labels data to be explicitly a row dataset\n",
    "train_set_y_orig = train_set_y_orig.reshape((1, train_set_y_orig.shape[0]))\n",
    "test_set_y_orig = test_set_y_orig.reshape((1, test_set_y_orig.shape[0]))"
   ]
  },
  {
   "cell_type": "code",
   "execution_count": null,
   "metadata": {},
   "outputs": [],
   "source": []
  },
  {
   "cell_type": "code",
   "execution_count": 5,
   "metadata": {},
   "outputs": [
    {
     "name": "stdout",
     "output_type": "stream",
     "text": [
      "y =2\n"
     ]
    },
    {
     "data": {
      "image/png": "[encoded data removed]",
      "text/plain": [
       "<Figure size 432x288 with 1 Axes>"
      ]
     },
     "metadata": {},
     "output_type": "display_data"
    }
   ],
   "source": [
    "# Show an example image\n",
    "plt.imshow(X_train_orig[0])\n",
    "print(\"y =\" + str(np.squeeze(Y_train_orig[10])))"
   ]
  },
  {
   "cell_type": "code",
   "execution_count": 6,
   "metadata": {},
   "outputs": [
    {
     "name": "stdout",
     "output_type": "stream",
     "text": [
      "number of training examples = 1080\n",
      "number of test examples = 120\n",
      "X_train shape: (1080, 64, 64, 3)\n",
      "Y_train shape: (1080,)\n",
      "X_test shape: (120, 64, 64, 3)\n",
      "Y_test shape: (120,)\n"
     ]
    }
   ],
   "source": [
    "# Normalize the image data to be between 0 and 1 (no need for this if using the torchvision transforms later)\n",
    "X_train, X_test = X_train_orig , X_test_orig  \n",
    "# convert to one hot encoding using the eye function which uses the identity matrix\n",
    "# Y_train = np.eye(len(classes))[Y_train_orig.reshape(-1)]\n",
    "# Y_test = np.eye(len(classes))[Y_test_orig.reshape(-1)]\n",
    "Y_train, Y_test = Y_train_orig , Y_test_orig  \n",
    "print (\"number of training examples = \" + str(X_train.shape[0]))\n",
    "print (\"number of test examples = \" + str(X_test.shape[0]))\n",
    "print (\"X_train shape: \" + str(X_train.shape))\n",
    "print (\"Y_train shape: \" + str(Y_train.shape))\n",
    "print (\"X_test shape: \" + str(X_test.shape))\n",
    "print (\"Y_test shape: \" + str(Y_test.shape))"
   ]
  },
  {
   "cell_type": "code",
   "execution_count": null,
   "metadata": {},
   "outputs": [],
   "source": []
  },
  {
   "cell_type": "code",
   "execution_count": 7,
   "metadata": {},
   "outputs": [],
   "source": [
    "# Create our CNN Model\n",
    "class SignLangNet(nn.Module):\n",
    "    def __init__(self, num_classes=6):\n",
    "        '''\n",
    "            initializes the model and defines the key convolution step their input parameters\n",
    "        '''\n",
    "        super(SignLangNet, self).__init__()\n",
    "        # define the inputs to the model\n",
    "        self.conv1 = nn.Conv2d(in_channels=3,out_channels=8, stride=1, padding=2, kernel_size=(4,4))\n",
    "        self.conv2 = nn.Conv2d(in_channels=8,out_channels=16, stride=1, padding=1, kernel_size=(2,2))\n",
    "        # input size is previous conv2d f_h x f_w * out_channels  \n",
    "        self.fc1 = nn.Linear(in_features=2*2*16,out_features=num_classes)\n",
    "        \n",
    "    def forward(self, x, show_msg = False):\n",
    "        '''\n",
    "            Implements the forward pass of the CNN. Uses the functional API for the pytorch\n",
    "        '''\n",
    "        if show_msg: print('Input size: ' + str(x.size()))\n",
    "        # first layer\n",
    "        x = self.conv1(x.float())\n",
    "        if show_msg: print('Conv1 size: ' + str(x.size()))\n",
    "        x = F.relu(x)\n",
    "        if show_msg: print('Relu1 size: ' + str(x.size()))\n",
    "        x = F.max_pool2d(input=x,kernel_size=(8,8), stride=(8,8), padding=0)\n",
    "        if show_msg: print('Pool1 size' + str(x.size()))\n",
    "        if show_msg: print()\n",
    "            \n",
    "        # second layer\n",
    "        x = self.conv2(x.float())\n",
    "        if show_msg: print('Conv2 size: ' + str(x.size()))\n",
    "        x = F.relu(x)\n",
    "        if show_msg: print('Relu2 size: ' + str(x.size()))\n",
    "        x = F.max_pool2d(input=x,kernel_size=(4,4), stride=(4,4), padding=0)\n",
    "        if show_msg: print('Pool2 size' + str(x.size()))\n",
    "        \n",
    "        \n",
    "        ## below is the compact form of the above\n",
    "        #x = F.max_pool2d(input=F.relu(self.conv1(x.float())), kernel_size=(1,8,8,1), stride=(8,8), padding=0)\n",
    "        #print(x.size())\n",
    "        #x = F.max_pool2d(input=F.relu(self.conv2(x.float())), kernel_size=(1,4,4,1), stride=(4,4), padding=0)\n",
    "        #print(x.size())\n",
    "        # then flatten the output ... \n",
    "        x = x.view(x.size(0), -1)  # x.view(-1, self.num_flat_features(x.float())) #\n",
    "        if show_msg: print('Flatten size' + str(x.size()))\n",
    "\n",
    "        if show_msg: print(self.fc1.weight.size())\n",
    "        # ... and apply the fully connected layer\n",
    "        x = self.fc1(x)\n",
    "        if show_msg: print('Fully connected size' + str(x.size()))\n",
    "        \n",
    "        return x\n",
    "        \n",
    "    def num_flat_features(self, x):\n",
    "        # get the size of the data excluding the batch size i presume\n",
    "        size = x.size()[1:]\n",
    "        num_features = 1\n",
    "        # multiply the dimensions ... could use numpy here but that introduces another library dependency\n",
    "        for s in size:\n",
    "            num_features *= s\n",
    "        return num_features\n"
   ]
  },
  {
   "cell_type": "code",
   "execution_count": null,
   "metadata": {},
   "outputs": [],
   "source": []
  },
  {
   "cell_type": "code",
   "execution_count": 8,
   "metadata": {},
   "outputs": [
    {
     "name": "stdout",
     "output_type": "stream",
     "text": [
      "SignLangNet(\n",
      "  (conv1): Conv2d(3, 8, kernel_size=(4, 4), stride=(1, 1), padding=(2, 2))\n",
      "  (conv2): Conv2d(8, 16, kernel_size=(2, 2), stride=(1, 1), padding=(1, 1))\n",
      "  (fc1): Linear(in_features=64, out_features=6, bias=True)\n",
      ")\n"
     ]
    }
   ],
   "source": [
    "# What does the network look like\n",
    "net = SignLangNet()\n",
    "print(net)"
   ]
  },
  {
   "cell_type": "code",
   "execution_count": null,
   "metadata": {},
   "outputs": [],
   "source": []
  },
  {
   "cell_type": "code",
   "execution_count": null,
   "metadata": {},
   "outputs": [],
   "source": []
  },
  {
   "cell_type": "code",
   "execution_count": 9,
   "metadata": {},
   "outputs": [],
   "source": [
    "# define some transforms to change our data from numpy image format \n",
    "# ( batches x n_H x n_W x n_channels) to ( batches x n_channels x n_H x n_W )\n",
    "img_transforms = transforms.Compose([\n",
    "        transforms.ToPILImage(), # TorchVision can only work on PIL image\n",
    "        transforms.ToTensor()    # magic call to reshape and normalize the data\n",
    "])"
   ]
  },
  {
   "cell_type": "code",
   "execution_count": 10,
   "metadata": {},
   "outputs": [],
   "source": [
    "class SignDataset(Dataset):\n",
    "    def __init__(self, data, labels): #, mean, std):\n",
    "        # get the shape of the numpy array\n",
    "        #print(data.shape)\n",
    "        num_imgs, img_h, img_w, num_channels = data.shape\n",
    "        # initialize the data in the dataset\n",
    "        # take note that pytorch image format is different\n",
    "        self.data = data #torch.from_numpy(data)) #torch.from_numpy(data) #np.moveaxis(data,-1,1))\n",
    "            #data.reshape(num_imgs,num_channels, img_h, img_w))\n",
    "        #print(self.data.size())\n",
    "        self.labels = torch.from_numpy(labels)\n",
    "        #self.mean = mean\n",
    "        #self.std = std\n",
    "        #normalize here or in __getitem__\n",
    "\n",
    "    def __getitem__(self, index):\n",
    "        # apply the transforms to the \n",
    "        X = img_transforms(self.data[index]) \n",
    "        y = self.labels[index]\n",
    "        return X, y\n",
    "\n",
    "    def __len__(self):\n",
    "        return len(self.data)"
   ]
  },
  {
   "cell_type": "code",
   "execution_count": null,
   "metadata": {},
   "outputs": [],
   "source": []
  },
  {
   "cell_type": "code",
   "execution_count": 11,
   "metadata": {},
   "outputs": [],
   "source": [
    "# # create a minibatch. this does requires using numpy arrays not the pytorch dataset and dataloader classes\n",
    "# def random_mini_batches(X, Y, mini_batch_size = 64, seed = 0):\n",
    "#     \"\"\"\n",
    "#     Creates a list of random minibatches from (X, Y)\n",
    "    \n",
    "#     Arguments:\n",
    "#     X -- input data, of shape (input size, number of examples) (m, Hi, Wi, Ci)\n",
    "#     Y -- true \"label\" vector (containing 0 if cat, 1 if non-cat), of shape (1, number of examples) (m, n_y)\n",
    "#     mini_batch_size - size of the mini-batches, integer\n",
    "#     seed -- this is only for the purpose of grading, so that you're \"random minibatches are the same as ours.\n",
    "    \n",
    "#     Returns:\n",
    "#     mini_batches -- list of synchronous (mini_batch_X, mini_batch_Y)\n",
    "#     \"\"\"\n",
    "    \n",
    "#     m = X.shape[0]                  # number of training examples\n",
    "#     mini_batches = []\n",
    "#     np.random.seed(seed)\n",
    "    \n",
    "#     print(Y.shape)\n",
    "#     # Step 1: Shuffle (X, Y)\n",
    "#     permutation = list(np.random.permutation(m))\n",
    "#     shuffled_X = X[permutation,:,:,:]\n",
    "#     shuffled_Y = Y[permutation,:]\n",
    "\n",
    "#     # Step 2: Partition (shuffled_X, shuffled_Y). Minus the end case.\n",
    "#     num_complete_minibatches = math.floor(m/mini_batch_size) # number of mini batches of size mini_batch_size in your partitionning\n",
    "#     for k in range(0, num_complete_minibatches):\n",
    "#         mini_batch_X = shuffled_X[k * mini_batch_size : k * mini_batch_size + mini_batch_size,:,:,:]\n",
    "#         mini_batch_Y = shuffled_Y[k * mini_batch_size : k * mini_batch_size + mini_batch_size,:]\n",
    "#         mini_batch = (mini_batch_X, mini_batch_Y)\n",
    "#         mini_batches.append(mini_batch)\n",
    "    \n",
    "#     # Handling the end case (last mini-batch < mini_batch_size)\n",
    "#     if m % mini_batch_size != 0:\n",
    "#         mini_batch_X = shuffled_X[num_complete_minibatches * mini_batch_size : m,:,:,:]\n",
    "#         mini_batch_Y = shuffled_Y[num_complete_minibatches * mini_batch_size : m,:]\n",
    "#         mini_batch = (mini_batch_X, mini_batch_Y)\n",
    "#         mini_batches.append(mini_batch)\n",
    "    \n",
    "#     return mini_batches"
   ]
  },
  {
   "cell_type": "code",
   "execution_count": null,
   "metadata": {},
   "outputs": [],
   "source": []
  },
  {
   "cell_type": "code",
   "execution_count": 12,
   "metadata": {},
   "outputs": [],
   "source": [
    "# define the cost function and associated parameters\n",
    "learning_rate = 0.005\n",
    "momentum = 0.9\n",
    "# use the softmax cross entropy loss function as the cost\n",
    "criterion = nn.CrossEntropyLoss()\n",
    "# use stochastic gradient descent in this case with learning rate and momentum parameters\n",
    "#optimizer = torch.optim.SGD(net.parameters(), lr=learning_rate, momentum=momentum)\n",
    "# use Adam gradient descent in this case with learning rate and weight decay\n",
    "optimizer = torch.optim.Adam(net.parameters(), lr = learning_rate, weight_decay=0.0001)"
   ]
  },
  {
   "cell_type": "code",
   "execution_count": 13,
   "metadata": {},
   "outputs": [],
   "source": [
    "# create a learning rate adustment\n",
    "def learning_rate_schedule(epoch, lr):\n",
    "    \n",
    "    # reduce by a factor of ten\n",
    "    t = epoch / 10\n",
    "    if t % 2 == 0:\n",
    "        lr = lr/ pow(10,t/2) \n",
    "    # then update the learning rate parameter\n",
    "    for param_group in optimizer.param_groups:\n",
    "        param_group[\"lr\"] = lr"
   ]
  },
  {
   "cell_type": "code",
   "execution_count": 14,
   "metadata": {},
   "outputs": [],
   "source": [
    "# Run the iterative batched optiimization to find the correct optimal values for the net.parameters\n",
    "def sign_model(X_train, Y_train, X_test, Y_test, learning_rate = 0.009, num_epochs= 1000,\n",
    "              mini_batch_size = 64, print_cost = True):\n",
    "    \n",
    "    # initialize the random seed for the entire run ... doing this because we are doing our own data handling a\n",
    "    # and not using the trainloader facility in pytorch\n",
    "    seed = 3\n",
    "    num_examples, img_height, img_width, img_chan = X_train.shape\n",
    "    #print(num_examples)\n",
    "    \n",
    "    epoch_costs = []\n",
    "    costs = []\n",
    "    \n",
    "    for epoch in range(num_epochs):\n",
    "\n",
    "        running_loss = 0.0\n",
    "        # Using the Numpy dataset ... \n",
    "        ## how many minibatches overall\n",
    "        num_minibatches = int (num_examples / mini_batch_size)\n",
    "        ## use the same seed for each epoch\n",
    "        seed = seed + 1\n",
    "        \n",
    "        # Using native pytorch Dataset and DataLoader classes\n",
    "        # https://pytorch.org/tutorials/beginner/data_loading_tutorial.html\n",
    "        train_dataset = SignDataset(X_train, Y_train)\n",
    "        trainloader = DataLoader(train_dataset, batch_size=mini_batch_size, shuffle=False, num_workers=1)\n",
    "\n",
    "        ## i here is looping over the minibatch not the entire dataset\n",
    "        ## this is because we are iterating over the trainloader object\n",
    "        mbcounter = 1\n",
    "        mbcost = 0.\n",
    "        #for minibatch in minibatches:\n",
    "        for minibatch in trainloader: #enumerate(trainloader,0):\n",
    "            \n",
    "            \n",
    "            # we first get the batch input data and the corresponding labels\n",
    "            inputs, labels = minibatch\n",
    "            if use_cuda:\n",
    "                inputs, labels = inputs.to(device), labels.to(device)\n",
    "            \n",
    "#             ## lets take a sneak peak at one of our images\n",
    "#             t_img = inputs[0,1,:,:]*255\n",
    "#             print(t_img)\n",
    "#             plt.imshow(t_img)\n",
    "#             print(\"y =\" + str(np.squeeze(Y_train_orig[0])))\n",
    "#             assert(1==-1)\n",
    "\n",
    "            # clear or zero out the gradients computed from the previous iteration\n",
    "            optimizer.zero_grad()\n",
    "\n",
    "            # forward + backward + optimize\n",
    "            # run the inputs through the network and get the corresponding outputs\n",
    "            outputs = net(inputs)\n",
    "\n",
    "            \n",
    "            # CrossEntropy loss expects a tensor of class indices not one-hot encoded data so change that\n",
    "            class_labels = labels #torch.max(labels, 1)[1]\n",
    "            # then we also need to format the labels as longs\n",
    "            class_labels  = class_labels.long()\n",
    "            # compute the loss\n",
    "            #print(torch.max(labels, 1)[1])\n",
    "            loss = criterion(outputs, class_labels)\n",
    "            # then run the backward pass .... using autograd because we obviously didnt define the bakward prop\n",
    "            loss.backward()\n",
    "            optimizer.step()\n",
    "            \n",
    "            \n",
    "            # print the run statistics\n",
    "            l = loss.item()\n",
    "            running_loss += l\n",
    "            costs.append(l)\n",
    "\n",
    "            if print_cost == True and (mbcounter ) % int(num_minibatches * 0.5) == 0:\n",
    "                print('Epoch:%d, MiniBatch: %d, has loss: %3f' %\n",
    "                     (epoch + 1, mbcounter + 1, running_loss / (mbcounter +1)))\n",
    "                #print (\"Cost for batch %i: %f\" % (mbcounter, running_loss))\n",
    "        \n",
    "            if mbcounter == num_minibatches:\n",
    "                epoch_costs.append(running_loss / num_minibatches)\n",
    "                print('Epoch %d: %5f' % (epoch, running_loss / num_minibatches))\n",
    "                running_loss = 0.\n",
    "            \n",
    "            mbcounter += 1\n",
    "        \n",
    "        learning_rate_schedule(epoch, learning_rate)\n",
    "        \n",
    "    print(\"\\nFinished Training\")\n",
    "\n",
    "    #print(epoch_costs)\n",
    "    plt.plot(np.squeeze(epoch_costs))\n",
    "    #plt.plot(np.squeeze(mb))\n",
    "    plt.ylabel('cost')\n",
    "    plt.xlabel('iterations')\n",
    "    plt.title(\"Learning rate =\" + str(learning_rate))\n",
    "    plt.show()\n",
    "    "
   ]
  },
  {
   "cell_type": "code",
   "execution_count": 15,
   "metadata": {},
   "outputs": [],
   "source": [
    "def get_accuracy(X_data, Y_data, which_data='Training'):\n",
    "    # Predict the model accuracy on any set of input data\n",
    "    accu  = 0.\n",
    "    total = 0.\n",
    "    my_dataset = SignDataset(X_data, Y_data)\n",
    "    trainloader = DataLoader(my_dataset, batch_size=1, shuffle=False, num_workers=1)\n",
    "    with torch.no_grad():\n",
    "        for data in trainloader: #zip(X_data, Y_data):\n",
    "            inputs, labels = data\n",
    "            if use_cuda:\n",
    "                inputs, labels = inputs.to(device), labels.to(device)\n",
    "            outputs = net(torch.tensor(inputs))\n",
    "            _, predicted = torch.max(outputs.data, 1)\n",
    "            total += labels.size(0)\n",
    "            #correct += (predicted - torch.max(labels, 1)[1].long()).sum().item()\n",
    "            #print(\"{} - {} \".format(int(predicted), int(torch.max(labels, 1)[1].long())))\n",
    "            if int(predicted) == int(labels): #int(torch.max(labels, 1)[1].long()):\n",
    "                accu += 1\n",
    "            #accu += sum((int(predicted) == int(torch.max(labels, 1)[1].long()))*1)\n",
    "    accu = 100 * accu/total\n",
    "    print('%s accuracy is %.3f%%' % (which_data, accu))"
   ]
  },
  {
   "cell_type": "code",
   "execution_count": 16,
   "metadata": {},
   "outputs": [
    {
     "name": "stdout",
     "output_type": "stream",
     "text": [
      "Epoch 0: 1.795328\n",
      "Epoch 1: 1.785986\n",
      "Epoch 2: 1.759242\n",
      "Epoch 3: 1.693011\n",
      "Epoch 4: 1.578648\n",
      "Epoch 5: 1.447578\n",
      "Epoch 6: 1.321147\n",
      "Epoch 7: 1.217561\n",
      "Epoch 8: 1.124540\n",
      "Epoch 9: 1.046579\n",
      "Epoch 10: 0.982480\n",
      "Epoch 11: 0.936745\n",
      "Epoch 12: 0.877010\n",
      "Epoch 13: 0.839619\n",
      "Epoch 14: 0.800096\n",
      "Epoch 15: 0.766798\n",
      "Epoch 16: 0.754834\n",
      "Epoch 17: 0.705094\n",
      "Epoch 18: 0.686876\n",
      "Epoch 19: 0.658059\n",
      "Epoch 20: 0.648696\n",
      "Epoch 21: 0.619467\n",
      "Epoch 22: 0.617065\n",
      "Epoch 23: 0.596638\n",
      "Epoch 24: 0.581849\n",
      "Epoch 25: 0.566391\n",
      "Epoch 26: 0.560456\n",
      "Epoch 27: 0.535359\n",
      "Epoch 28: 0.527645\n",
      "Epoch 29: 0.505634\n",
      "Epoch 30: 0.495199\n",
      "Epoch 31: 0.493446\n",
      "Epoch 32: 0.471907\n",
      "Epoch 33: 0.469491\n",
      "Epoch 34: 0.458917\n",
      "Epoch 35: 0.449843\n",
      "Epoch 36: 0.459629\n",
      "Epoch 37: 0.455668\n",
      "Epoch 38: 0.432899\n",
      "Epoch 39: 0.441711\n",
      "Epoch 40: 0.432134\n",
      "Epoch 41: 0.431703\n",
      "Epoch 42: 0.506841\n",
      "Epoch 43: 0.434519\n",
      "Epoch 44: 0.408359\n",
      "Epoch 45: 0.398857\n",
      "Epoch 46: 0.391657\n",
      "Epoch 47: 0.384698\n",
      "Epoch 48: 0.374727\n",
      "Epoch 49: 0.369671\n",
      "Epoch 50: 0.371282\n",
      "Epoch 51: 0.366246\n",
      "Epoch 52: 0.358281\n",
      "Epoch 53: 0.354100\n",
      "Epoch 54: 0.357200\n",
      "Epoch 55: 0.349015\n",
      "Epoch 56: 0.347579\n",
      "Epoch 57: 0.348344\n",
      "Epoch 58: 0.341867\n",
      "Epoch 59: 0.333916\n",
      "Epoch 60: 0.336543\n",
      "Epoch 61: 0.358666\n",
      "Epoch 62: 0.392103\n",
      "Epoch 63: 0.330726\n",
      "Epoch 64: 0.323686\n",
      "Epoch 65: 0.324887\n",
      "Epoch 66: 0.317701\n",
      "Epoch 67: 0.317466\n",
      "Epoch 68: 0.310592\n",
      "Epoch 69: 0.309406\n",
      "Epoch 70: 0.307390\n",
      "Epoch 71: 0.305270\n",
      "Epoch 72: 0.302150\n",
      "Epoch 73: 0.299312\n",
      "Epoch 74: 0.294652\n",
      "Epoch 75: 0.287326\n",
      "Epoch 76: 0.283697\n",
      "Epoch 77: 0.277242\n",
      "Epoch 78: 0.271530\n",
      "Epoch 79: 0.261280\n",
      "Epoch 80: 0.253654\n",
      "Epoch 81: 0.252317\n",
      "Epoch 82: 0.353808\n",
      "Epoch 83: 0.306746\n",
      "Epoch 84: 0.244636\n",
      "Epoch 85: 0.239975\n",
      "Epoch 86: 0.228411\n",
      "Epoch 87: 0.226563\n",
      "Epoch 88: 0.221084\n",
      "Epoch 89: 0.219033\n",
      "Epoch 90: 0.215223\n",
      "Epoch 91: 0.211081\n",
      "Epoch 92: 0.208771\n",
      "Epoch 93: 0.205477\n",
      "Epoch 94: 0.202974\n",
      "Epoch 95: 0.202186\n",
      "Epoch 96: 0.199098\n",
      "Epoch 97: 0.196093\n",
      "Epoch 98: 0.195690\n",
      "Epoch 99: 0.192359\n",
      "Epoch 100: 0.189836\n",
      "Epoch 101: 0.263739\n",
      "Epoch 102: 0.577045\n",
      "Epoch 103: 0.293840\n",
      "Epoch 104: 0.229090\n",
      "Epoch 105: 0.210428\n",
      "Epoch 106: 0.205467\n",
      "Epoch 107: 0.210550\n",
      "Epoch 108: 0.209315\n",
      "Epoch 109: 0.212679\n",
      "Epoch 110: 0.209358\n",
      "Epoch 111: 0.214981\n",
      "Epoch 112: 0.212760\n",
      "Epoch 113: 0.214370\n",
      "Epoch 114: 0.214044\n",
      "Epoch 115: 0.214447\n",
      "Epoch 116: 0.210029\n",
      "Epoch 117: 0.213235\n",
      "Epoch 118: 0.213387\n",
      "Epoch 119: 0.207146\n",
      "Epoch 120: 0.208431\n",
      "Epoch 121: 0.190505\n",
      "Epoch 122: 0.235988\n",
      "Epoch 123: 0.202888\n",
      "Epoch 124: 0.188750\n",
      "Epoch 125: 0.188410\n",
      "Epoch 126: 0.185649\n",
      "Epoch 127: 0.189975\n",
      "Epoch 128: 0.190819\n",
      "Epoch 129: 0.187985\n",
      "Epoch 130: 0.186686\n",
      "Epoch 131: 0.183010\n",
      "Epoch 132: 0.185592\n",
      "Epoch 133: 0.179526\n",
      "Epoch 134: 0.179389\n",
      "Epoch 135: 0.177093\n",
      "Epoch 136: 0.178966\n",
      "Epoch 137: 0.178611\n",
      "Epoch 138: 0.178932\n",
      "Epoch 139: 0.179341\n",
      "Epoch 140: 0.180791\n",
      "Epoch 141: 0.189070\n",
      "Epoch 142: 0.279743\n",
      "Epoch 143: 0.212205\n",
      "Epoch 144: 0.182152\n",
      "Epoch 145: 0.189523\n",
      "Epoch 146: 0.192769\n",
      "Epoch 147: 0.190621\n",
      "Epoch 148: 0.187894\n",
      "Epoch 149: 0.190590\n",
      "Epoch 150: 0.192424\n",
      "Epoch 151: 0.196814\n",
      "Epoch 152: 0.197578\n",
      "Epoch 153: 0.188650\n",
      "Epoch 154: 0.183243\n",
      "Epoch 155: 0.172531\n",
      "Epoch 156: 0.165042\n",
      "Epoch 157: 0.150653\n",
      "Epoch 158: 0.149601\n",
      "Epoch 159: 0.147421\n",
      "Epoch 160: 0.146353\n",
      "Epoch 161: 0.157350\n",
      "Epoch 162: 0.251153\n",
      "Epoch 163: 0.165787\n",
      "Epoch 164: 0.143528\n",
      "Epoch 165: 0.149876\n",
      "Epoch 166: 0.158731\n",
      "Epoch 167: 0.161302\n",
      "Epoch 168: 0.163792\n",
      "Epoch 169: 0.166252\n",
      "Epoch 170: 0.167539\n",
      "Epoch 171: 0.169639\n",
      "Epoch 172: 0.170891\n",
      "Epoch 173: 0.184037\n",
      "Epoch 174: 0.164779\n",
      "Epoch 175: 0.184523\n",
      "Epoch 176: 0.166837\n",
      "Epoch 177: 0.169399\n",
      "Epoch 178: 0.164598\n",
      "Epoch 179: 0.153942\n",
      "Epoch 180: 0.152984\n",
      "Epoch 181: 0.221392\n",
      "Epoch 182: 0.274358\n",
      "Epoch 183: 0.135415\n",
      "Epoch 184: 0.144136\n",
      "Epoch 185: 0.145262\n",
      "Epoch 186: 0.139007\n",
      "Epoch 187: 0.132744\n",
      "Epoch 188: 0.120298\n",
      "Epoch 189: 0.108916\n",
      "\n",
      "Finished Training\n"
     ]
    },
    {
     "data": {
      "image/png": "[encoded data removed]",
      "text/plain": [
       "<Figure size 432x288 with 1 Axes>"
      ]
     },
     "metadata": {},
     "output_type": "display_data"
    }
   ],
   "source": [
    "optimizer.zero_grad()\n",
    "num_epochs = 190\n",
    "mini_batch_size = 64\n",
    "sign_model(X_train, Y_train, X_test, Y_test, learning_rate, \n",
    "           num_epochs,mini_batch_size=mini_batch_size, print_cost=False)"
   ]
  },
  {
   "cell_type": "code",
   "execution_count": 17,
   "metadata": {},
   "outputs": [],
   "source": [
    "#get_accuracy(X_train, Y_train)"
   ]
  },
  {
   "cell_type": "code",
   "execution_count": 18,
   "metadata": {},
   "outputs": [],
   "source": [
    "#get_accuracy(X_test, Y_test, \"Test\")"
   ]
  },
  {
   "cell_type": "code",
   "execution_count": 22,
   "metadata": {},
   "outputs": [
    {
     "name": "stderr",
     "output_type": "stream",
     "text": [
      "/Users/kofi/anaconda/envs/python36/lib/python3.6/site-packages/torch/serialization.py:241: UserWarning: Couldn't retrieve source code for container of type SignLangNet. It won't be checked for correctness upon loading.\n",
      "  \"type \" + obj.__name__ + \". It won't be checked \"\n"
     ]
    }
   ],
   "source": [
    "# Save the model\n",
    "torch.save(net, 'handsigns.pt')"
   ]
  },
  {
   "cell_type": "code",
   "execution_count": 23,
   "metadata": {},
   "outputs": [],
   "source": [
    "torch.save(net.state_dict(), 'handsigns-dict.pt')"
   ]
  },
  {
   "cell_type": "code",
   "execution_count": 24,
   "metadata": {},
   "outputs": [],
   "source": [
    "#Import the onnx library\n",
    "import onnx"
   ]
  },
  {
   "cell_type": "code",
   "execution_count": 49,
   "metadata": {},
   "outputs": [
    {
     "data": {
      "image/png": "[encoded data removed]",
      "text/plain": [
       "<Figure size 432x288 with 1 Axes>"
      ]
     },
     "metadata": {},
     "output_type": "display_data"
    }
   ],
   "source": [
    "# create a dummy image to be passed as input to the onnx export \n",
    "img = Image.new('RGB', (IMG_HEIGHT, IMG_WIDTH), color = 'white') #(73, 109, 137))\n",
    "plt.imshow(img)\n",
    "\n",
    "# then convert image to a numpy array\n",
    "img_np = np.array(img)"
   ]
  },
  {
   "cell_type": "code",
   "execution_count": 50,
   "metadata": {},
   "outputs": [
    {
     "ename": "RuntimeError",
     "evalue": "/Users/soumith/miniconda2/conda-bld/pytorch_1532623076075/work/torch/csrc/jit/tracer.h:143: getTracingState: Assertion `var_state == state` failed.",
     "output_type": "error",
     "traceback": [
      "\u001b[0;31m---------------------------------------------------------------------------\u001b[0m",
      "\u001b[0;31mRuntimeError\u001b[0m                              Traceback (most recent call last)",
      "\u001b[0;32m<ipython-input-50-3aa6a78c7346>\u001b[0m in \u001b[0;36m<module>\u001b[0;34m()\u001b[0m\n\u001b[1;32m      5\u001b[0m \u001b[0;31m#torch.onnx.export(model, dummy_input, \"alexnet.onnx\", verbose=True)\u001b[0m\u001b[0;34m\u001b[0m\u001b[0;34m\u001b[0m\u001b[0m\n\u001b[1;32m      6\u001b[0m \u001b[0;34m\u001b[0m\u001b[0m\n\u001b[0;32m----> 7\u001b[0;31m \u001b[0mtorch\u001b[0m\u001b[0;34m.\u001b[0m\u001b[0monnx\u001b[0m\u001b[0;34m.\u001b[0m\u001b[0mexport\u001b[0m\u001b[0;34m(\u001b[0m\u001b[0mnet\u001b[0m\u001b[0;34m,\u001b[0m \u001b[0mdummy_input\u001b[0m\u001b[0;34m,\u001b[0m \u001b[0;34m'handsigns.onnx'\u001b[0m\u001b[0;34m,\u001b[0m \u001b[0mverbose\u001b[0m\u001b[0;34m=\u001b[0m\u001b[0;32mTrue\u001b[0m\u001b[0;34m)\u001b[0m\u001b[0;34m\u001b[0m\u001b[0m\n\u001b[0m\u001b[1;32m      8\u001b[0m \u001b[0;31m#model = onnx.load('SplitModel.proto')\u001b[0m\u001b[0;34m\u001b[0m\u001b[0;34m\u001b[0m\u001b[0m\n",
      "\u001b[0;32m~/anaconda/envs/python36/lib/python3.6/site-packages/torch/onnx/__init__.py\u001b[0m in \u001b[0;36mexport\u001b[0;34m(*args, **kwargs)\u001b[0m\n\u001b[1;32m     24\u001b[0m \u001b[0;32mdef\u001b[0m \u001b[0mexport\u001b[0m\u001b[0;34m(\u001b[0m\u001b[0;34m*\u001b[0m\u001b[0margs\u001b[0m\u001b[0;34m,\u001b[0m \u001b[0;34m**\u001b[0m\u001b[0mkwargs\u001b[0m\u001b[0;34m)\u001b[0m\u001b[0;34m:\u001b[0m\u001b[0;34m\u001b[0m\u001b[0m\n\u001b[1;32m     25\u001b[0m     \u001b[0;32mfrom\u001b[0m \u001b[0mtorch\u001b[0m\u001b[0;34m.\u001b[0m\u001b[0monnx\u001b[0m \u001b[0;32mimport\u001b[0m \u001b[0mutils\u001b[0m\u001b[0;34m\u001b[0m\u001b[0m\n\u001b[0;32m---> 26\u001b[0;31m     \u001b[0;32mreturn\u001b[0m \u001b[0mutils\u001b[0m\u001b[0;34m.\u001b[0m\u001b[0mexport\u001b[0m\u001b[0;34m(\u001b[0m\u001b[0;34m*\u001b[0m\u001b[0margs\u001b[0m\u001b[0;34m,\u001b[0m \u001b[0;34m**\u001b[0m\u001b[0mkwargs\u001b[0m\u001b[0;34m)\u001b[0m\u001b[0;34m\u001b[0m\u001b[0m\n\u001b[0m\u001b[1;32m     27\u001b[0m \u001b[0;34m\u001b[0m\u001b[0m\n\u001b[1;32m     28\u001b[0m \u001b[0;34m\u001b[0m\u001b[0m\n",
      "\u001b[0;32m~/anaconda/envs/python36/lib/python3.6/site-packages/torch/onnx/utils.py\u001b[0m in \u001b[0;36mexport\u001b[0;34m(model, args, f, export_params, verbose, training, input_names, output_names, aten, export_raw_ir, operator_export_type)\u001b[0m\n\u001b[1;32m     92\u001b[0m         \u001b[0moperator_export_type\u001b[0m \u001b[0;34m=\u001b[0m \u001b[0mOperatorExportTypes\u001b[0m\u001b[0;34m.\u001b[0m\u001b[0mONNX\u001b[0m\u001b[0;34m\u001b[0m\u001b[0m\n\u001b[1;32m     93\u001b[0m     _export(model, args, f, export_params, verbose, training, input_names, output_names,\n\u001b[0;32m---> 94\u001b[0;31m             operator_export_type=operator_export_type)\n\u001b[0m\u001b[1;32m     95\u001b[0m \u001b[0;34m\u001b[0m\u001b[0m\n\u001b[1;32m     96\u001b[0m \u001b[0;34m\u001b[0m\u001b[0m\n",
      "\u001b[0;32m~/anaconda/envs/python36/lib/python3.6/site-packages/torch/onnx/utils.py\u001b[0m in \u001b[0;36m_export\u001b[0;34m(model, args, f, export_params, verbose, training, input_names, output_names, operator_export_type, export_type, example_outputs, propagate)\u001b[0m\n\u001b[1;32m    224\u001b[0m                                                \u001b[0mtraining\u001b[0m\u001b[0;34m,\u001b[0m \u001b[0minput_names\u001b[0m\u001b[0;34m,\u001b[0m\u001b[0;34m\u001b[0m\u001b[0m\n\u001b[1;32m    225\u001b[0m                                                \u001b[0moutput_names\u001b[0m\u001b[0;34m,\u001b[0m \u001b[0moperator_export_type\u001b[0m\u001b[0;34m,\u001b[0m\u001b[0;34m\u001b[0m\u001b[0m\n\u001b[0;32m--> 226\u001b[0;31m                                                example_outputs, propagate)\n\u001b[0m\u001b[1;32m    227\u001b[0m \u001b[0;34m\u001b[0m\u001b[0m\n\u001b[1;32m    228\u001b[0m     \u001b[0;31m# TODO: Don't allocate a in-memory string for the protobuf\u001b[0m\u001b[0;34m\u001b[0m\u001b[0;34m\u001b[0m\u001b[0m\n",
      "\u001b[0;32m~/anaconda/envs/python36/lib/python3.6/site-packages/torch/onnx/utils.py\u001b[0m in \u001b[0;36m_model_to_graph\u001b[0;34m(model, args, f, verbose, training, input_names, output_names, operator_export_type, example_outputs, propagate)\u001b[0m\n\u001b[1;32m    175\u001b[0m             \u001b[0;32mraise\u001b[0m \u001b[0mRuntimeError\u001b[0m\u001b[0;34m(\u001b[0m\u001b[0;34m'\\'forward\\' method must be a script method'\u001b[0m\u001b[0;34m)\u001b[0m\u001b[0;34m\u001b[0m\u001b[0m\n\u001b[1;32m    176\u001b[0m     \u001b[0;32melse\u001b[0m\u001b[0;34m:\u001b[0m\u001b[0;34m\u001b[0m\u001b[0m\n\u001b[0;32m--> 177\u001b[0;31m         \u001b[0mgraph\u001b[0m\u001b[0;34m,\u001b[0m \u001b[0mtorch_out\u001b[0m \u001b[0;34m=\u001b[0m \u001b[0m_trace_and_get_graph_from_model\u001b[0m\u001b[0;34m(\u001b[0m\u001b[0mmodel\u001b[0m\u001b[0;34m,\u001b[0m \u001b[0margs\u001b[0m\u001b[0;34m,\u001b[0m \u001b[0mtraining\u001b[0m\u001b[0;34m)\u001b[0m\u001b[0;34m\u001b[0m\u001b[0m\n\u001b[0m\u001b[1;32m    178\u001b[0m         \u001b[0mparams\u001b[0m \u001b[0;34m=\u001b[0m \u001b[0mlist\u001b[0m\u001b[0;34m(\u001b[0m\u001b[0m_unique_state_dict\u001b[0m\u001b[0;34m(\u001b[0m\u001b[0mmodel\u001b[0m\u001b[0;34m)\u001b[0m\u001b[0;34m.\u001b[0m\u001b[0mvalues\u001b[0m\u001b[0;34m(\u001b[0m\u001b[0;34m)\u001b[0m\u001b[0;34m)\u001b[0m\u001b[0;34m\u001b[0m\u001b[0m\n\u001b[1;32m    179\u001b[0m \u001b[0;34m\u001b[0m\u001b[0m\n",
      "\u001b[0;32m~/anaconda/envs/python36/lib/python3.6/site-packages/torch/onnx/utils.py\u001b[0m in \u001b[0;36m_trace_and_get_graph_from_model\u001b[0;34m(model, args, training)\u001b[0m\n\u001b[1;32m    142\u001b[0m     \u001b[0;31m# training mode was.)\u001b[0m\u001b[0;34m\u001b[0m\u001b[0;34m\u001b[0m\u001b[0m\n\u001b[1;32m    143\u001b[0m     \u001b[0;32mwith\u001b[0m \u001b[0mset_training\u001b[0m\u001b[0;34m(\u001b[0m\u001b[0mmodel\u001b[0m\u001b[0;34m,\u001b[0m \u001b[0mtraining\u001b[0m\u001b[0;34m)\u001b[0m\u001b[0;34m:\u001b[0m\u001b[0;34m\u001b[0m\u001b[0m\n\u001b[0;32m--> 144\u001b[0;31m         \u001b[0mtrace\u001b[0m\u001b[0;34m,\u001b[0m \u001b[0mtorch_out\u001b[0m \u001b[0;34m=\u001b[0m \u001b[0mtorch\u001b[0m\u001b[0;34m.\u001b[0m\u001b[0mjit\u001b[0m\u001b[0;34m.\u001b[0m\u001b[0mget_trace_graph\u001b[0m\u001b[0;34m(\u001b[0m\u001b[0mmodel\u001b[0m\u001b[0;34m,\u001b[0m \u001b[0margs\u001b[0m\u001b[0;34m)\u001b[0m\u001b[0;34m\u001b[0m\u001b[0m\n\u001b[0m\u001b[1;32m    145\u001b[0m \u001b[0;34m\u001b[0m\u001b[0m\n\u001b[1;32m    146\u001b[0m     \u001b[0;32mif\u001b[0m \u001b[0morig_state_dict_keys\u001b[0m \u001b[0;34m!=\u001b[0m \u001b[0m_unique_state_dict\u001b[0m\u001b[0;34m(\u001b[0m\u001b[0mmodel\u001b[0m\u001b[0;34m)\u001b[0m\u001b[0;34m.\u001b[0m\u001b[0mkeys\u001b[0m\u001b[0;34m(\u001b[0m\u001b[0;34m)\u001b[0m\u001b[0;34m:\u001b[0m\u001b[0;34m\u001b[0m\u001b[0m\n",
      "\u001b[0;32m~/anaconda/envs/python36/lib/python3.6/site-packages/torch/jit/__init__.py\u001b[0m in \u001b[0;36mget_trace_graph\u001b[0;34m(f, args, kwargs)\u001b[0m\n\u001b[1;32m     75\u001b[0m     \u001b[0;32mif\u001b[0m \u001b[0;32mnot\u001b[0m \u001b[0misinstance\u001b[0m\u001b[0;34m(\u001b[0m\u001b[0margs\u001b[0m\u001b[0;34m,\u001b[0m \u001b[0mtuple\u001b[0m\u001b[0;34m)\u001b[0m\u001b[0;34m:\u001b[0m\u001b[0;34m\u001b[0m\u001b[0m\n\u001b[1;32m     76\u001b[0m         \u001b[0margs\u001b[0m \u001b[0;34m=\u001b[0m \u001b[0;34m(\u001b[0m\u001b[0margs\u001b[0m\u001b[0;34m,\u001b[0m\u001b[0;34m)\u001b[0m\u001b[0;34m\u001b[0m\u001b[0m\n\u001b[0;32m---> 77\u001b[0;31m     \u001b[0;32mreturn\u001b[0m \u001b[0mLegacyTracedModule\u001b[0m\u001b[0;34m(\u001b[0m\u001b[0mf\u001b[0m\u001b[0;34m)\u001b[0m\u001b[0;34m(\u001b[0m\u001b[0;34m*\u001b[0m\u001b[0margs\u001b[0m\u001b[0;34m,\u001b[0m \u001b[0;34m**\u001b[0m\u001b[0mkwargs\u001b[0m\u001b[0;34m)\u001b[0m\u001b[0;34m\u001b[0m\u001b[0m\n\u001b[0m\u001b[1;32m     78\u001b[0m \u001b[0;34m\u001b[0m\u001b[0m\n\u001b[1;32m     79\u001b[0m \u001b[0;34m\u001b[0m\u001b[0m\n",
      "\u001b[0;32m~/anaconda/envs/python36/lib/python3.6/site-packages/torch/nn/modules/module.py\u001b[0m in \u001b[0;36m__call__\u001b[0;34m(self, *input, **kwargs)\u001b[0m\n\u001b[1;32m    473\u001b[0m             \u001b[0mhook\u001b[0m\u001b[0;34m(\u001b[0m\u001b[0mself\u001b[0m\u001b[0;34m,\u001b[0m \u001b[0minput\u001b[0m\u001b[0;34m)\u001b[0m\u001b[0;34m\u001b[0m\u001b[0m\n\u001b[1;32m    474\u001b[0m         \u001b[0;32mif\u001b[0m \u001b[0mtorch\u001b[0m\u001b[0;34m.\u001b[0m\u001b[0mjit\u001b[0m\u001b[0;34m.\u001b[0m\u001b[0m_tracing\u001b[0m\u001b[0;34m:\u001b[0m\u001b[0;34m\u001b[0m\u001b[0m\n\u001b[0;32m--> 475\u001b[0;31m             \u001b[0mresult\u001b[0m \u001b[0;34m=\u001b[0m \u001b[0mself\u001b[0m\u001b[0;34m.\u001b[0m\u001b[0m_slow_forward\u001b[0m\u001b[0;34m(\u001b[0m\u001b[0;34m*\u001b[0m\u001b[0minput\u001b[0m\u001b[0;34m,\u001b[0m \u001b[0;34m**\u001b[0m\u001b[0mkwargs\u001b[0m\u001b[0;34m)\u001b[0m\u001b[0;34m\u001b[0m\u001b[0m\n\u001b[0m\u001b[1;32m    476\u001b[0m         \u001b[0;32melse\u001b[0m\u001b[0;34m:\u001b[0m\u001b[0;34m\u001b[0m\u001b[0m\n\u001b[1;32m    477\u001b[0m             \u001b[0mresult\u001b[0m \u001b[0;34m=\u001b[0m \u001b[0mself\u001b[0m\u001b[0;34m.\u001b[0m\u001b[0mforward\u001b[0m\u001b[0;34m(\u001b[0m\u001b[0;34m*\u001b[0m\u001b[0minput\u001b[0m\u001b[0;34m,\u001b[0m \u001b[0;34m**\u001b[0m\u001b[0mkwargs\u001b[0m\u001b[0;34m)\u001b[0m\u001b[0;34m\u001b[0m\u001b[0m\n",
      "\u001b[0;32m~/anaconda/envs/python36/lib/python3.6/site-packages/torch/nn/modules/module.py\u001b[0m in \u001b[0;36m_slow_forward\u001b[0;34m(self, *input, **kwargs)\u001b[0m\n\u001b[1;32m    453\u001b[0m         \u001b[0mtracing_state\u001b[0m \u001b[0;34m=\u001b[0m \u001b[0mtorch\u001b[0m\u001b[0;34m.\u001b[0m\u001b[0mjit\u001b[0m\u001b[0;34m.\u001b[0m\u001b[0mget_tracing_state\u001b[0m\u001b[0;34m(\u001b[0m\u001b[0minput_vars\u001b[0m\u001b[0;34m)\u001b[0m\u001b[0;34m\u001b[0m\u001b[0m\n\u001b[1;32m    454\u001b[0m         \u001b[0;32mif\u001b[0m \u001b[0;32mnot\u001b[0m \u001b[0mtracing_state\u001b[0m\u001b[0;34m:\u001b[0m\u001b[0;34m\u001b[0m\u001b[0m\n\u001b[0;32m--> 455\u001b[0;31m             \u001b[0;32mreturn\u001b[0m \u001b[0mself\u001b[0m\u001b[0;34m.\u001b[0m\u001b[0mforward\u001b[0m\u001b[0;34m(\u001b[0m\u001b[0;34m*\u001b[0m\u001b[0minput\u001b[0m\u001b[0;34m,\u001b[0m \u001b[0;34m**\u001b[0m\u001b[0mkwargs\u001b[0m\u001b[0;34m)\u001b[0m\u001b[0;34m\u001b[0m\u001b[0m\n\u001b[0m\u001b[1;32m    456\u001b[0m         \u001b[0;32mif\u001b[0m \u001b[0;32mnot\u001b[0m \u001b[0mhasattr\u001b[0m\u001b[0;34m(\u001b[0m\u001b[0mtracing_state\u001b[0m\u001b[0;34m,\u001b[0m \u001b[0;34m'_traced_module_stack'\u001b[0m\u001b[0;34m)\u001b[0m\u001b[0;34m:\u001b[0m\u001b[0;34m\u001b[0m\u001b[0m\n\u001b[1;32m    457\u001b[0m             \u001b[0mtracing_state\u001b[0m\u001b[0;34m.\u001b[0m\u001b[0m_traced_module_stack\u001b[0m \u001b[0;34m=\u001b[0m \u001b[0;34m[\u001b[0m\u001b[0;34m]\u001b[0m\u001b[0;34m\u001b[0m\u001b[0m\n",
      "\u001b[0;32m~/anaconda/envs/python36/lib/python3.6/site-packages/torch/jit/__init__.py\u001b[0m in \u001b[0;36mforward\u001b[0;34m(self, *args)\u001b[0m\n\u001b[1;32m    107\u001b[0m         \u001b[0m_tracing\u001b[0m \u001b[0;34m=\u001b[0m \u001b[0;32mTrue\u001b[0m\u001b[0;34m\u001b[0m\u001b[0m\n\u001b[1;32m    108\u001b[0m         \u001b[0mtrace_inputs\u001b[0m \u001b[0;34m=\u001b[0m \u001b[0m_unflatten\u001b[0m\u001b[0;34m(\u001b[0m\u001b[0mall_trace_inputs\u001b[0m\u001b[0;34m[\u001b[0m\u001b[0;34m:\u001b[0m\u001b[0mlen\u001b[0m\u001b[0;34m(\u001b[0m\u001b[0min_vars\u001b[0m\u001b[0;34m)\u001b[0m\u001b[0;34m]\u001b[0m\u001b[0;34m,\u001b[0m \u001b[0min_desc\u001b[0m\u001b[0;34m)\u001b[0m\u001b[0;34m\u001b[0m\u001b[0m\n\u001b[0;32m--> 109\u001b[0;31m         \u001b[0mout\u001b[0m \u001b[0;34m=\u001b[0m \u001b[0mself\u001b[0m\u001b[0;34m.\u001b[0m\u001b[0minner\u001b[0m\u001b[0;34m(\u001b[0m\u001b[0;34m*\u001b[0m\u001b[0mtrace_inputs\u001b[0m\u001b[0;34m)\u001b[0m\u001b[0;34m\u001b[0m\u001b[0m\n\u001b[0m\u001b[1;32m    110\u001b[0m         \u001b[0mout_vars\u001b[0m\u001b[0;34m,\u001b[0m \u001b[0m_\u001b[0m \u001b[0;34m=\u001b[0m \u001b[0m_flatten\u001b[0m\u001b[0;34m(\u001b[0m\u001b[0mout\u001b[0m\u001b[0;34m)\u001b[0m\u001b[0;34m\u001b[0m\u001b[0m\n\u001b[1;32m    111\u001b[0m         \u001b[0m_tracing\u001b[0m \u001b[0;34m=\u001b[0m \u001b[0;32mFalse\u001b[0m\u001b[0;34m\u001b[0m\u001b[0m\n",
      "\u001b[0;32m~/anaconda/envs/python36/lib/python3.6/site-packages/torch/nn/modules/module.py\u001b[0m in \u001b[0;36m__call__\u001b[0;34m(self, *input, **kwargs)\u001b[0m\n\u001b[1;32m    473\u001b[0m             \u001b[0mhook\u001b[0m\u001b[0;34m(\u001b[0m\u001b[0mself\u001b[0m\u001b[0;34m,\u001b[0m \u001b[0minput\u001b[0m\u001b[0;34m)\u001b[0m\u001b[0;34m\u001b[0m\u001b[0m\n\u001b[1;32m    474\u001b[0m         \u001b[0;32mif\u001b[0m \u001b[0mtorch\u001b[0m\u001b[0;34m.\u001b[0m\u001b[0mjit\u001b[0m\u001b[0;34m.\u001b[0m\u001b[0m_tracing\u001b[0m\u001b[0;34m:\u001b[0m\u001b[0;34m\u001b[0m\u001b[0m\n\u001b[0;32m--> 475\u001b[0;31m             \u001b[0mresult\u001b[0m \u001b[0;34m=\u001b[0m \u001b[0mself\u001b[0m\u001b[0;34m.\u001b[0m\u001b[0m_slow_forward\u001b[0m\u001b[0;34m(\u001b[0m\u001b[0;34m*\u001b[0m\u001b[0minput\u001b[0m\u001b[0;34m,\u001b[0m \u001b[0;34m**\u001b[0m\u001b[0mkwargs\u001b[0m\u001b[0;34m)\u001b[0m\u001b[0;34m\u001b[0m\u001b[0m\n\u001b[0m\u001b[1;32m    476\u001b[0m         \u001b[0;32melse\u001b[0m\u001b[0;34m:\u001b[0m\u001b[0;34m\u001b[0m\u001b[0m\n\u001b[1;32m    477\u001b[0m             \u001b[0mresult\u001b[0m \u001b[0;34m=\u001b[0m \u001b[0mself\u001b[0m\u001b[0;34m.\u001b[0m\u001b[0mforward\u001b[0m\u001b[0;34m(\u001b[0m\u001b[0;34m*\u001b[0m\u001b[0minput\u001b[0m\u001b[0;34m,\u001b[0m \u001b[0;34m**\u001b[0m\u001b[0mkwargs\u001b[0m\u001b[0;34m)\u001b[0m\u001b[0;34m\u001b[0m\u001b[0m\n",
      "\u001b[0;32m~/anaconda/envs/python36/lib/python3.6/site-packages/torch/nn/modules/module.py\u001b[0m in \u001b[0;36m_slow_forward\u001b[0;34m(self, *input, **kwargs)\u001b[0m\n\u001b[1;32m    463\u001b[0m         \u001b[0mtracing_state\u001b[0m\u001b[0;34m.\u001b[0m\u001b[0m_traced_module_stack\u001b[0m\u001b[0;34m.\u001b[0m\u001b[0mappend\u001b[0m\u001b[0;34m(\u001b[0m\u001b[0mself\u001b[0m\u001b[0;34m)\u001b[0m\u001b[0;34m\u001b[0m\u001b[0m\n\u001b[1;32m    464\u001b[0m         \u001b[0;32mtry\u001b[0m\u001b[0;34m:\u001b[0m\u001b[0;34m\u001b[0m\u001b[0m\n\u001b[0;32m--> 465\u001b[0;31m             \u001b[0mresult\u001b[0m \u001b[0;34m=\u001b[0m \u001b[0mself\u001b[0m\u001b[0;34m.\u001b[0m\u001b[0mforward\u001b[0m\u001b[0;34m(\u001b[0m\u001b[0;34m*\u001b[0m\u001b[0minput\u001b[0m\u001b[0;34m,\u001b[0m \u001b[0;34m**\u001b[0m\u001b[0mkwargs\u001b[0m\u001b[0;34m)\u001b[0m\u001b[0;34m\u001b[0m\u001b[0m\n\u001b[0m\u001b[1;32m    466\u001b[0m         \u001b[0;32mfinally\u001b[0m\u001b[0;34m:\u001b[0m\u001b[0;34m\u001b[0m\u001b[0m\n\u001b[1;32m    467\u001b[0m             \u001b[0mtracing_state\u001b[0m\u001b[0;34m.\u001b[0m\u001b[0mpop_scope\u001b[0m\u001b[0;34m(\u001b[0m\u001b[0;34m)\u001b[0m\u001b[0;34m\u001b[0m\u001b[0m\n",
      "\u001b[0;32m<ipython-input-7-6cd28f354c33>\u001b[0m in \u001b[0;36mforward\u001b[0;34m(self, x, show_msg)\u001b[0m\n\u001b[1;32m     18\u001b[0m         \u001b[0;32mif\u001b[0m \u001b[0mshow_msg\u001b[0m\u001b[0;34m:\u001b[0m \u001b[0mprint\u001b[0m\u001b[0;34m(\u001b[0m\u001b[0;34m'Input size: '\u001b[0m \u001b[0;34m+\u001b[0m \u001b[0mstr\u001b[0m\u001b[0;34m(\u001b[0m\u001b[0mx\u001b[0m\u001b[0;34m.\u001b[0m\u001b[0msize\u001b[0m\u001b[0;34m(\u001b[0m\u001b[0;34m)\u001b[0m\u001b[0;34m)\u001b[0m\u001b[0;34m)\u001b[0m\u001b[0;34m\u001b[0m\u001b[0m\n\u001b[1;32m     19\u001b[0m         \u001b[0;31m# first layer\u001b[0m\u001b[0;34m\u001b[0m\u001b[0;34m\u001b[0m\u001b[0m\n\u001b[0;32m---> 20\u001b[0;31m         \u001b[0mx\u001b[0m \u001b[0;34m=\u001b[0m \u001b[0mself\u001b[0m\u001b[0;34m.\u001b[0m\u001b[0mconv1\u001b[0m\u001b[0;34m(\u001b[0m\u001b[0mx\u001b[0m\u001b[0;34m.\u001b[0m\u001b[0mfloat\u001b[0m\u001b[0;34m(\u001b[0m\u001b[0;34m)\u001b[0m\u001b[0;34m)\u001b[0m\u001b[0;34m\u001b[0m\u001b[0m\n\u001b[0m\u001b[1;32m     21\u001b[0m         \u001b[0;32mif\u001b[0m \u001b[0mshow_msg\u001b[0m\u001b[0;34m:\u001b[0m \u001b[0mprint\u001b[0m\u001b[0;34m(\u001b[0m\u001b[0;34m'Conv1 size: '\u001b[0m \u001b[0;34m+\u001b[0m \u001b[0mstr\u001b[0m\u001b[0;34m(\u001b[0m\u001b[0mx\u001b[0m\u001b[0;34m.\u001b[0m\u001b[0msize\u001b[0m\u001b[0;34m(\u001b[0m\u001b[0;34m)\u001b[0m\u001b[0;34m)\u001b[0m\u001b[0;34m)\u001b[0m\u001b[0;34m\u001b[0m\u001b[0m\n\u001b[1;32m     22\u001b[0m         \u001b[0mx\u001b[0m \u001b[0;34m=\u001b[0m \u001b[0mF\u001b[0m\u001b[0;34m.\u001b[0m\u001b[0mrelu\u001b[0m\u001b[0;34m(\u001b[0m\u001b[0mx\u001b[0m\u001b[0;34m)\u001b[0m\u001b[0;34m\u001b[0m\u001b[0m\n",
      "\u001b[0;32m~/anaconda/envs/python36/lib/python3.6/site-packages/torch/nn/modules/module.py\u001b[0m in \u001b[0;36m__call__\u001b[0;34m(self, *input, **kwargs)\u001b[0m\n\u001b[1;32m    473\u001b[0m             \u001b[0mhook\u001b[0m\u001b[0;34m(\u001b[0m\u001b[0mself\u001b[0m\u001b[0;34m,\u001b[0m \u001b[0minput\u001b[0m\u001b[0;34m)\u001b[0m\u001b[0;34m\u001b[0m\u001b[0m\n\u001b[1;32m    474\u001b[0m         \u001b[0;32mif\u001b[0m \u001b[0mtorch\u001b[0m\u001b[0;34m.\u001b[0m\u001b[0mjit\u001b[0m\u001b[0;34m.\u001b[0m\u001b[0m_tracing\u001b[0m\u001b[0;34m:\u001b[0m\u001b[0;34m\u001b[0m\u001b[0m\n\u001b[0;32m--> 475\u001b[0;31m             \u001b[0mresult\u001b[0m \u001b[0;34m=\u001b[0m \u001b[0mself\u001b[0m\u001b[0;34m.\u001b[0m\u001b[0m_slow_forward\u001b[0m\u001b[0;34m(\u001b[0m\u001b[0;34m*\u001b[0m\u001b[0minput\u001b[0m\u001b[0;34m,\u001b[0m \u001b[0;34m**\u001b[0m\u001b[0mkwargs\u001b[0m\u001b[0;34m)\u001b[0m\u001b[0;34m\u001b[0m\u001b[0m\n\u001b[0m\u001b[1;32m    476\u001b[0m         \u001b[0;32melse\u001b[0m\u001b[0;34m:\u001b[0m\u001b[0;34m\u001b[0m\u001b[0m\n\u001b[1;32m    477\u001b[0m             \u001b[0mresult\u001b[0m \u001b[0;34m=\u001b[0m \u001b[0mself\u001b[0m\u001b[0;34m.\u001b[0m\u001b[0mforward\u001b[0m\u001b[0;34m(\u001b[0m\u001b[0;34m*\u001b[0m\u001b[0minput\u001b[0m\u001b[0;34m,\u001b[0m \u001b[0;34m**\u001b[0m\u001b[0mkwargs\u001b[0m\u001b[0;34m)\u001b[0m\u001b[0;34m\u001b[0m\u001b[0m\n",
      "\u001b[0;32m~/anaconda/envs/python36/lib/python3.6/site-packages/torch/nn/modules/module.py\u001b[0m in \u001b[0;36m_slow_forward\u001b[0;34m(self, *input, **kwargs)\u001b[0m\n\u001b[1;32m    463\u001b[0m         \u001b[0mtracing_state\u001b[0m\u001b[0;34m.\u001b[0m\u001b[0m_traced_module_stack\u001b[0m\u001b[0;34m.\u001b[0m\u001b[0mappend\u001b[0m\u001b[0;34m(\u001b[0m\u001b[0mself\u001b[0m\u001b[0;34m)\u001b[0m\u001b[0;34m\u001b[0m\u001b[0m\n\u001b[1;32m    464\u001b[0m         \u001b[0;32mtry\u001b[0m\u001b[0;34m:\u001b[0m\u001b[0;34m\u001b[0m\u001b[0m\n\u001b[0;32m--> 465\u001b[0;31m             \u001b[0mresult\u001b[0m \u001b[0;34m=\u001b[0m \u001b[0mself\u001b[0m\u001b[0;34m.\u001b[0m\u001b[0mforward\u001b[0m\u001b[0;34m(\u001b[0m\u001b[0;34m*\u001b[0m\u001b[0minput\u001b[0m\u001b[0;34m,\u001b[0m \u001b[0;34m**\u001b[0m\u001b[0mkwargs\u001b[0m\u001b[0;34m)\u001b[0m\u001b[0;34m\u001b[0m\u001b[0m\n\u001b[0m\u001b[1;32m    466\u001b[0m         \u001b[0;32mfinally\u001b[0m\u001b[0;34m:\u001b[0m\u001b[0;34m\u001b[0m\u001b[0m\n\u001b[1;32m    467\u001b[0m             \u001b[0mtracing_state\u001b[0m\u001b[0;34m.\u001b[0m\u001b[0mpop_scope\u001b[0m\u001b[0;34m(\u001b[0m\u001b[0;34m)\u001b[0m\u001b[0;34m\u001b[0m\u001b[0m\n",
      "\u001b[0;32m~/anaconda/envs/python36/lib/python3.6/site-packages/torch/nn/modules/conv.py\u001b[0m in \u001b[0;36mforward\u001b[0;34m(self, input)\u001b[0m\n\u001b[1;32m    299\u001b[0m     \u001b[0;32mdef\u001b[0m \u001b[0mforward\u001b[0m\u001b[0;34m(\u001b[0m\u001b[0mself\u001b[0m\u001b[0;34m,\u001b[0m \u001b[0minput\u001b[0m\u001b[0;34m)\u001b[0m\u001b[0;34m:\u001b[0m\u001b[0;34m\u001b[0m\u001b[0m\n\u001b[1;32m    300\u001b[0m         return F.conv2d(input, self.weight, self.bias, self.stride,\n\u001b[0;32m--> 301\u001b[0;31m                         self.padding, self.dilation, self.groups)\n\u001b[0m\u001b[1;32m    302\u001b[0m \u001b[0;34m\u001b[0m\u001b[0m\n\u001b[1;32m    303\u001b[0m \u001b[0;34m\u001b[0m\u001b[0m\n",
      "\u001b[0;31mRuntimeError\u001b[0m: /Users/soumith/miniconda2/conda-bld/pytorch_1532623076075/work/torch/csrc/jit/tracer.h:143: getTracingState: Assertion `var_state == state` failed."
     ]
    }
   ],
   "source": [
    "from torch.autograd import Variable\n",
    "dummy_input = Variable(torch.randn(1,3,IMG_HEIGHT, IMG_WIDTH), requires_grad=True)\n",
    "    #torch.FloatTensor(1, 3, IMG_HEIGHT, IMG_WIDTH), requires_grad=False)#torch.tensor(img_transforms(img_np)) #100))\n",
    "#print(dummy_input)\n",
    "#torch.onnx.export(model, dummy_input, \"alexnet.onnx\", verbose=True)\n",
    "\n",
    "torch.onnx.export(net, dummy_input, 'handsigns.onnx', verbose=True)\n",
    "#model = onnx.load('SplitModel.proto')"
   ]
  },
  {
   "cell_type": "code",
   "execution_count": null,
   "metadata": {},
   "outputs": [],
   "source": []
  }
 ],
 "metadata": {
  "kernelspec": {
   "display_name": "Python [python36]",
   "language": "python",
   "name": "Python [python36]"
  },
  "language_info": {
   "codemirror_mode": {
    "name": "ipython",
    "version": 3
   },
   "file_extension": ".py",
   "mimetype": "text/x-python",
   "name": "python",
   "nbconvert_exporter": "python",
   "pygments_lexer": "ipython3",
   "version": "3.6.2"
  }
 },
 "nbformat": 4,
 "nbformat_minor": 2
}
