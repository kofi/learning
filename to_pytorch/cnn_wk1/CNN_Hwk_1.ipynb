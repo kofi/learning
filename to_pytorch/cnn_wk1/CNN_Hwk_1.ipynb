{
 "cells": [
  {
   "cell_type": "markdown",
   "metadata": {},
   "source": [
    "# Handsigns using tensorflow - recreation"
   ]
  },
  {
   "cell_type": "markdown",
   "metadata": {},
   "source": [
    "This is an exercice to convert the Tensorflow based model in the OpenAI CNN course by Andrew Ng to a PyTorch based model.\n",
    "\n",
    "For some function calls there are no direct equivalencies between the two frameworks. Examples include\n",
    "* \"SAME\" padding in Tensorflow. In PyTorch you have to precompute the equivalent padding needed. In this model i use just pick a 0 or 1 padding\n",
    "* No Need to define a backward propagation function. This handled by autograd\n",
    "* The cost function softmax_cross_entropy_with_logits in Tensorflow. Replaced that with CrossEntroyLoss\n",
    "* CrossEntropy loss expects a tensor of class indices not one-hot encoded data so we have to change that data\n",
    "* Pytorch expects images to be in the format (channels x height x width). Tensorflow utilizes (height x width x channels)  \n",
    "\n",
    "\n"
   ]
  },
  {
   "cell_type": "code",
   "execution_count": 1,
   "metadata": {},
   "outputs": [
    {
     "name": "stderr",
     "output_type": "stream",
     "text": [
      "/Users/kofi/anaconda/envs/python36/lib/python3.6/site-packages/h5py/__init__.py:36: FutureWarning: Conversion of the second argument of issubdtype from `float` to `np.floating` is deprecated. In future, it will be treated as `np.float64 == np.dtype(float).type`.\n",
      "  from ._conv import register_converters as _register_converters\n"
     ]
    }
   ],
   "source": [
    "import math\n",
    "import numpy as np\n",
    "import h5py\n",
    "import matplotlib.pyplot as plt\n",
    "import scipy\n",
    "from PIL import Image\n",
    "from scipy import ndimage\n",
    "import tensorflow as tf\n",
    "from tensorflow.python.framework import ops\n",
    "from cnn_utils import *\n",
    "\n",
    "# for python torch\n",
    "import torch \n",
    "import torch.nn as nn\n",
    "import torch.nn.functional as F\n",
    "import torch.optim as optim\n",
    "import torchvision\n",
    "import torchvision.transforms as transforms\n",
    "\n",
    "from torch.utils.data.dataset import Dataset\n",
    "from torch.utils.data import DataLoader\n",
    "\n",
    "#Import the onnx library\n",
    "import onnx\n",
    "\n",
    "%matplotlib inline\n",
    "np.random.seed(1)\n"
   ]
  },
  {
   "cell_type": "code",
   "execution_count": 2,
   "metadata": {},
   "outputs": [],
   "source": [
    "IMG_WIDTH = 64\n",
    "IMG_HEIGHT = 64\n",
    "NUM_CHANNELS = 3"
   ]
  },
  {
   "cell_type": "code",
   "execution_count": 3,
   "metadata": {},
   "outputs": [],
   "source": [
    "# Use CUDA for PyTorch?\n",
    "use_cuda = torch.cuda.is_available()\n",
    "device = torch.device(\"cuda:0\" if use_cuda else \"cpu\")\n",
    "#cudnn.benchmark = True"
   ]
  },
  {
   "cell_type": "code",
   "execution_count": 4,
   "metadata": {},
   "outputs": [],
   "source": [
    "# Load the dataset\n",
    "train_dataset = h5py.File('datasets/train_signs.h5', \"r\")\n",
    "train_set_x_orig = np.array(train_dataset[\"train_set_x\"][:]) # training set of features\n",
    "train_set_y_orig = np.array(train_dataset[\"train_set_y\"][:]) # training set of labels\n",
    "\n",
    "test_dataset = h5py.File('datasets/test_signs.h5', \"r\")\n",
    "test_set_x_orig = np.array(test_dataset[\"test_set_x\"][:]) # test set of features\n",
    "test_set_y_orig = np.array(test_dataset[\"test_set_y\"][:]) # test set of labels\n",
    "\n",
    "classes = np.array(test_dataset[\"list_classes\"][:]) # the list of classes\n",
    "\n",
    "X_train_orig, Y_train_orig, X_test_orig, Y_test_orig = train_set_x_orig, train_set_y_orig, test_set_x_orig, test_set_y_orig\n",
    "#return train_set_x_orig, train_set_y_orig, test_set_x_orig, test_set_y_orig, classes"
   ]
  },
  {
   "cell_type": "code",
   "execution_count": 5,
   "metadata": {},
   "outputs": [],
   "source": [
    "# Reshape the training and test set labels data to be explicitly a row dataset\n",
    "train_set_y_orig = train_set_y_orig.reshape((1, train_set_y_orig.shape[0]))\n",
    "test_set_y_orig = test_set_y_orig.reshape((1, test_set_y_orig.shape[0]))"
   ]
  },
  {
   "cell_type": "code",
   "execution_count": null,
   "metadata": {},
   "outputs": [],
   "source": []
  },
  {
   "cell_type": "code",
   "execution_count": 6,
   "metadata": {},
   "outputs": [
    {
     "name": "stdout",
     "output_type": "stream",
     "text": [
      "y =2\n"
     ]
    },
    {
     "data": {
      "image/png": "[encoded data removed]",
      "text/plain": [
       "<Figure size 432x288 with 1 Axes>"
      ]
     },
     "metadata": {},
     "output_type": "display_data"
    }
   ],
   "source": [
    "# Show an example image\n",
    "plt.imshow(X_train_orig[0])\n",
    "print(\"y =\" + str(np.squeeze(Y_train_orig[10])))"
   ]
  },
  {
   "cell_type": "code",
   "execution_count": 7,
   "metadata": {},
   "outputs": [
    {
     "name": "stdout",
     "output_type": "stream",
     "text": [
      "number of training examples = 1080\n",
      "number of test examples = 120\n",
      "X_train shape: (1080, 64, 64, 3)\n",
      "Y_train shape: (1080,)\n",
      "X_test shape: (120, 64, 64, 3)\n",
      "Y_test shape: (120,)\n"
     ]
    }
   ],
   "source": [
    "# Normalize the image data to be between 0 and 1 (no need for this if using the torchvision transforms later)\n",
    "X_train, X_test = X_train_orig , X_test_orig  \n",
    "# convert to one hot encoding using the eye function which uses the identity matrix\n",
    "# Y_train = np.eye(len(classes))[Y_train_orig.reshape(-1)]\n",
    "# Y_test = np.eye(len(classes))[Y_test_orig.reshape(-1)]\n",
    "Y_train, Y_test = Y_train_orig , Y_test_orig  \n",
    "print (\"number of training examples = \" + str(X_train.shape[0]))\n",
    "print (\"number of test examples = \" + str(X_test.shape[0]))\n",
    "print (\"X_train shape: \" + str(X_train.shape))\n",
    "print (\"Y_train shape: \" + str(Y_train.shape))\n",
    "print (\"X_test shape: \" + str(X_test.shape))\n",
    "print (\"Y_test shape: \" + str(Y_test.shape))"
   ]
  },
  {
   "cell_type": "code",
   "execution_count": null,
   "metadata": {},
   "outputs": [],
   "source": []
  },
  {
   "cell_type": "code",
   "execution_count": 8,
   "metadata": {},
   "outputs": [],
   "source": [
    "# Create our CNN Model\n",
    "class SignLangNet(nn.Module):\n",
    "    def __init__(self, num_classes=6):\n",
    "        '''\n",
    "            initializes the model and defines the key convolution step their input parameters\n",
    "        '''\n",
    "        super(SignLangNet, self).__init__()\n",
    "        # define the inputs to the model\n",
    "        self.conv1 = nn.Conv2d(in_channels=3,out_channels=8, stride=1, padding=2, kernel_size=(4,4))\n",
    "        self.conv2 = nn.Conv2d(in_channels=8,out_channels=16, stride=1, padding=1, kernel_size=(2,2))\n",
    "        # input size is previous conv2d f_h x f_w * out_channels  \n",
    "        self.fc1 = nn.Linear(in_features=2*2*16,out_features=num_classes)\n",
    "        \n",
    "    def forward(self, x, show_msg = False):\n",
    "        '''\n",
    "            Implements the forward pass of the CNN. Uses the functional API for the pytorch\n",
    "        '''\n",
    "        if show_msg: print('Input size: ' + str(x.size()))\n",
    "        # first layer\n",
    "        x = self.conv1(x.float())\n",
    "        if show_msg: print('Conv1 size: ' + str(x.size()))\n",
    "        x = F.relu(x)\n",
    "        if show_msg: print('Relu1 size: ' + str(x.size()))\n",
    "        x = F.max_pool2d(input=x,kernel_size=(8,8), stride=(8,8), padding=0)\n",
    "        if show_msg: print('Pool1 size' + str(x.size()))\n",
    "        if show_msg: print()\n",
    "            \n",
    "        # second layer\n",
    "        x = self.conv2(x.float())\n",
    "        if show_msg: print('Conv2 size: ' + str(x.size()))\n",
    "        x = F.relu(x)\n",
    "        if show_msg: print('Relu2 size: ' + str(x.size()))\n",
    "        x = F.max_pool2d(input=x,kernel_size=(4,4), stride=(4,4), padding=0)\n",
    "        if show_msg: print('Pool2 size' + str(x.size()))\n",
    "        \n",
    "        \n",
    "        ## below is the compact form of the above\n",
    "        #x = F.max_pool2d(input=F.relu(self.conv1(x.float())), kernel_size=(1,8,8,1), stride=(8,8), padding=0)\n",
    "        #print(x.size())\n",
    "        #x = F.max_pool2d(input=F.relu(self.conv2(x.float())), kernel_size=(1,4,4,1), stride=(4,4), padding=0)\n",
    "        #print(x.size())\n",
    "        # then flatten the output ... \n",
    "        x = x.view(x.size(0), -1)  # x.view(-1, self.num_flat_features(x.float())) #\n",
    "        if show_msg: print('Flatten size' + str(x.size()))\n",
    "\n",
    "        if show_msg: print(self.fc1.weight.size())\n",
    "        # ... and apply the fully connected layer\n",
    "        x = self.fc1(x)\n",
    "        if show_msg: print('Fully connected size' + str(x.size()))\n",
    "        \n",
    "        return x\n",
    "        \n",
    "    def num_flat_features(self, x):\n",
    "        # get the size of the data excluding the batch size i presume\n",
    "        size = x.size()[1:]\n",
    "        num_features = 1\n",
    "        # multiply the dimensions ... could use numpy here but that introduces another library dependency\n",
    "        for s in size:\n",
    "            num_features *= s\n",
    "        return num_features\n"
   ]
  },
  {
   "cell_type": "code",
   "execution_count": null,
   "metadata": {},
   "outputs": [],
   "source": []
  },
  {
   "cell_type": "code",
   "execution_count": 9,
   "metadata": {},
   "outputs": [
    {
     "name": "stdout",
     "output_type": "stream",
     "text": [
      "SignLangNet(\n",
      "  (conv1): Conv2d(3, 8, kernel_size=(4, 4), stride=(1, 1), padding=(2, 2))\n",
      "  (conv2): Conv2d(8, 16, kernel_size=(2, 2), stride=(1, 1), padding=(1, 1))\n",
      "  (fc1): Linear(in_features=64, out_features=6, bias=True)\n",
      ")\n"
     ]
    }
   ],
   "source": [
    "# What does the network look like\n",
    "net = SignLangNet()\n",
    "print(net)"
   ]
  },
  {
   "cell_type": "code",
   "execution_count": null,
   "metadata": {},
   "outputs": [],
   "source": []
  },
  {
   "cell_type": "code",
   "execution_count": null,
   "metadata": {},
   "outputs": [],
   "source": []
  },
  {
   "cell_type": "code",
   "execution_count": 10,
   "metadata": {},
   "outputs": [],
   "source": [
    "# define some transforms to change our data from numpy image format \n",
    "# ( batches x n_H x n_W x n_channels) to ( batches x n_channels x n_H x n_W )\n",
    "img_transforms = transforms.Compose([\n",
    "        transforms.ToPILImage(), # TorchVision can only work on PIL image\n",
    "        transforms.ToTensor()    # magic call to reshape and normalize the data\n",
    "])"
   ]
  },
  {
   "cell_type": "code",
   "execution_count": 11,
   "metadata": {},
   "outputs": [],
   "source": [
    "class SignDataset(Dataset):\n",
    "    def __init__(self, data, labels): #, mean, std):\n",
    "        # get the shape of the numpy array\n",
    "        #print(data.shape)\n",
    "        num_imgs, img_h, img_w, num_channels = data.shape\n",
    "        # initialize the data in the dataset\n",
    "        # take note that pytorch image format is different\n",
    "        self.data = data #torch.from_numpy(data)) #torch.from_numpy(data) #np.moveaxis(data,-1,1))\n",
    "            #data.reshape(num_imgs,num_channels, img_h, img_w))\n",
    "        #print(self.data.size())\n",
    "        self.labels = torch.from_numpy(labels)\n",
    "        #self.mean = mean\n",
    "        #self.std = std\n",
    "        #normalize here or in __getitem__\n",
    "\n",
    "    def __getitem__(self, index):\n",
    "        # apply the transforms to the \n",
    "        X = img_transforms(self.data[index]) \n",
    "        y = self.labels[index]\n",
    "        return X, y\n",
    "\n",
    "    def __len__(self):\n",
    "        return len(self.data)"
   ]
  },
  {
   "cell_type": "code",
   "execution_count": null,
   "metadata": {},
   "outputs": [],
   "source": []
  },
  {
   "cell_type": "code",
   "execution_count": 12,
   "metadata": {},
   "outputs": [],
   "source": [
    "# # create a minibatch. this does requires using numpy arrays not the pytorch dataset and dataloader classes\n",
    "# def random_mini_batches(X, Y, mini_batch_size = 64, seed = 0):\n",
    "#     \"\"\"\n",
    "#     Creates a list of random minibatches from (X, Y)\n",
    "    \n",
    "#     Arguments:\n",
    "#     X -- input data, of shape (input size, number of examples) (m, Hi, Wi, Ci)\n",
    "#     Y -- true \"label\" vector (containing 0 if cat, 1 if non-cat), of shape (1, number of examples) (m, n_y)\n",
    "#     mini_batch_size - size of the mini-batches, integer\n",
    "#     seed -- this is only for the purpose of grading, so that you're \"random minibatches are the same as ours.\n",
    "    \n",
    "#     Returns:\n",
    "#     mini_batches -- list of synchronous (mini_batch_X, mini_batch_Y)\n",
    "#     \"\"\"\n",
    "    \n",
    "#     m = X.shape[0]                  # number of training examples\n",
    "#     mini_batches = []\n",
    "#     np.random.seed(seed)\n",
    "    \n",
    "#     print(Y.shape)\n",
    "#     # Step 1: Shuffle (X, Y)\n",
    "#     permutation = list(np.random.permutation(m))\n",
    "#     shuffled_X = X[permutation,:,:,:]\n",
    "#     shuffled_Y = Y[permutation,:]\n",
    "\n",
    "#     # Step 2: Partition (shuffled_X, shuffled_Y). Minus the end case.\n",
    "#     num_complete_minibatches = math.floor(m/mini_batch_size) # number of mini batches of size mini_batch_size in your partitionning\n",
    "#     for k in range(0, num_complete_minibatches):\n",
    "#         mini_batch_X = shuffled_X[k * mini_batch_size : k * mini_batch_size + mini_batch_size,:,:,:]\n",
    "#         mini_batch_Y = shuffled_Y[k * mini_batch_size : k * mini_batch_size + mini_batch_size,:]\n",
    "#         mini_batch = (mini_batch_X, mini_batch_Y)\n",
    "#         mini_batches.append(mini_batch)\n",
    "    \n",
    "#     # Handling the end case (last mini-batch < mini_batch_size)\n",
    "#     if m % mini_batch_size != 0:\n",
    "#         mini_batch_X = shuffled_X[num_complete_minibatches * mini_batch_size : m,:,:,:]\n",
    "#         mini_batch_Y = shuffled_Y[num_complete_minibatches * mini_batch_size : m,:]\n",
    "#         mini_batch = (mini_batch_X, mini_batch_Y)\n",
    "#         mini_batches.append(mini_batch)\n",
    "    \n",
    "#     return mini_batches"
   ]
  },
  {
   "cell_type": "code",
   "execution_count": null,
   "metadata": {},
   "outputs": [],
   "source": []
  },
  {
   "cell_type": "code",
   "execution_count": 13,
   "metadata": {},
   "outputs": [],
   "source": [
    "# define the cost function and associated parameters\n",
    "learning_rate = 0.005\n",
    "momentum = 0.9\n",
    "# use the softmax cross entropy loss function as the cost\n",
    "criterion = nn.CrossEntropyLoss()\n",
    "# use stochastic gradient descent in this case with learning rate and momentum parameters\n",
    "#optimizer = torch.optim.SGD(net.parameters(), lr=learning_rate, momentum=momentum)\n",
    "# use Adam gradient descent in this case with learning rate and weight decay\n",
    "optimizer = torch.optim.Adam(net.parameters(), lr = learning_rate, weight_decay=0.0001)"
   ]
  },
  {
   "cell_type": "code",
   "execution_count": 14,
   "metadata": {},
   "outputs": [],
   "source": [
    "# create a learning rate adustment\n",
    "def learning_rate_schedule(epoch, lr):\n",
    "    \n",
    "    # reduce by a factor of ten\n",
    "    t = epoch / 10\n",
    "    if t % 2 == 0:\n",
    "        lr = lr/ pow(10,t/2) \n",
    "    # then update the learning rate parameter\n",
    "    for param_group in optimizer.param_groups:\n",
    "        param_group[\"lr\"] = lr"
   ]
  },
  {
   "cell_type": "code",
   "execution_count": 15,
   "metadata": {},
   "outputs": [],
   "source": [
    "# Run the iterative batched optiimization to find the correct optimal values for the net.parameters\n",
    "def sign_model(X_train, Y_train, X_test, Y_test, learning_rate = 0.009, num_epochs= 1000,\n",
    "              mini_batch_size = 64, print_cost = True):\n",
    "    \n",
    "    # initialize the random seed for the entire run ... doing this because we are doing our own data handling a\n",
    "    # and not using the trainloader facility in pytorch\n",
    "    seed = 3\n",
    "    num_examples, img_height, img_width, img_chan = X_train.shape\n",
    "    #print(num_examples)\n",
    "    \n",
    "    epoch_costs = []\n",
    "    costs = []\n",
    "    \n",
    "    for epoch in range(num_epochs):\n",
    "\n",
    "        running_loss = 0.0\n",
    "        # Using the Numpy dataset ... \n",
    "        ## how many minibatches overall\n",
    "        num_minibatches = int (num_examples / mini_batch_size)\n",
    "        ## use the same seed for each epoch\n",
    "        seed = seed + 1\n",
    "        \n",
    "        # Using native pytorch Dataset and DataLoader classes\n",
    "        # https://pytorch.org/tutorials/beginner/data_loading_tutorial.html\n",
    "        train_dataset = SignDataset(X_train, Y_train)\n",
    "        trainloader = DataLoader(train_dataset, batch_size=mini_batch_size, shuffle=False, num_workers=1)\n",
    "\n",
    "        ## i here is looping over the minibatch not the entire dataset\n",
    "        ## this is because we are iterating over the trainloader object\n",
    "        mbcounter = 1\n",
    "        mbcost = 0.\n",
    "        #for minibatch in minibatches:\n",
    "        for minibatch in trainloader: #enumerate(trainloader,0):\n",
    "            \n",
    "            \n",
    "            # we first get the batch input data and the corresponding labels\n",
    "            inputs, labels = minibatch\n",
    "            if use_cuda:\n",
    "                inputs, labels = inputs.to(device), labels.to(device)\n",
    "            \n",
    "#             ## lets take a sneak peak at one of our images\n",
    "#             t_img = inputs[0,1,:,:]*255\n",
    "#             print(t_img)\n",
    "#             plt.imshow(t_img)\n",
    "#             print(\"y =\" + str(np.squeeze(Y_train_orig[0])))\n",
    "#             assert(1==-1)\n",
    "\n",
    "            # clear or zero out the gradients computed from the previous iteration\n",
    "            optimizer.zero_grad()\n",
    "\n",
    "            # forward + backward + optimize\n",
    "            # run the inputs through the network and get the corresponding outputs\n",
    "            outputs = net(inputs)\n",
    "\n",
    "            \n",
    "            # CrossEntropy loss expects a tensor of class indices not one-hot encoded data so change that\n",
    "            class_labels = labels #torch.max(labels, 1)[1]\n",
    "            # then we also need to format the labels as longs\n",
    "            class_labels  = class_labels.long()\n",
    "            # compute the loss\n",
    "            #print(torch.max(labels, 1)[1])\n",
    "            loss = criterion(outputs, class_labels)\n",
    "            # then run the backward pass .... using autograd because we obviously didnt define the bakward prop\n",
    "            loss.backward()\n",
    "            optimizer.step()\n",
    "            \n",
    "            \n",
    "            # print the run statistics\n",
    "            l = loss.item()\n",
    "            running_loss += l\n",
    "            costs.append(l)\n",
    "\n",
    "            if print_cost == True and (mbcounter ) % int(num_minibatches * 0.5) == 0:\n",
    "                print('Epoch:%d, MiniBatch: %d, has loss: %3f' %\n",
    "                     (epoch + 1, mbcounter + 1, running_loss / (mbcounter +1)))\n",
    "                #print (\"Cost for batch %i: %f\" % (mbcounter, running_loss))\n",
    "        \n",
    "            if mbcounter == num_minibatches:\n",
    "                epoch_costs.append(running_loss / num_minibatches)\n",
    "                print('Epoch %d: %5f' % (epoch, running_loss / num_minibatches))\n",
    "                running_loss = 0.\n",
    "            \n",
    "            mbcounter += 1\n",
    "        \n",
    "        learning_rate_schedule(epoch, learning_rate)\n",
    "        \n",
    "    print(\"\\nFinished Training\")\n",
    "\n",
    "    #print(epoch_costs)\n",
    "    plt.plot(np.squeeze(epoch_costs))\n",
    "    #plt.plot(np.squeeze(mb))\n",
    "    plt.ylabel('cost')\n",
    "    plt.xlabel('iterations')\n",
    "    plt.title(\"Learning rate =\" + str(learning_rate))\n",
    "    plt.show()\n",
    "    "
   ]
  },
  {
   "cell_type": "code",
   "execution_count": 16,
   "metadata": {},
   "outputs": [],
   "source": [
    "def get_accuracy(X_data, Y_data, which_data='Training'):\n",
    "    # Predict the model accuracy on any set of input data\n",
    "    accu  = 0.\n",
    "    total = 0.\n",
    "    my_dataset = SignDataset(X_data, Y_data)\n",
    "    trainloader = DataLoader(my_dataset, batch_size=1, shuffle=False, num_workers=1)\n",
    "    with torch.no_grad():\n",
    "        for data in trainloader: #zip(X_data, Y_data):\n",
    "            inputs, labels = data\n",
    "            if use_cuda:\n",
    "                inputs, labels = inputs.to(device), labels.to(device)\n",
    "            outputs = net(torch.tensor(inputs))\n",
    "            _, predicted = torch.max(outputs.data, 1)\n",
    "            total += labels.size(0)\n",
    "            #correct += (predicted - torch.max(labels, 1)[1].long()).sum().item()\n",
    "            #print(\"{} - {} \".format(int(predicted), int(torch.max(labels, 1)[1].long())))\n",
    "            if int(predicted) == int(labels): #int(torch.max(labels, 1)[1].long()):\n",
    "                accu += 1\n",
    "            #accu += sum((int(predicted) == int(torch.max(labels, 1)[1].long()))*1)\n",
    "    accu = 100 * accu/total\n",
    "    print('%s accuracy is %.3f%%' % (which_data, accu))"
   ]
  },
  {
   "cell_type": "code",
   "execution_count": 17,
   "metadata": {},
   "outputs": [
    {
     "name": "stdout",
     "output_type": "stream",
     "text": [
      "Epoch 0: 1.795217\n",
      "Epoch 1: 1.788361\n",
      "Epoch 2: 1.776565\n",
      "Epoch 3: 1.741764\n",
      "Epoch 4: 1.653807\n",
      "Epoch 5: 1.527792\n",
      "Epoch 6: 1.418965\n",
      "Epoch 7: 1.315795\n",
      "Epoch 8: 1.217785\n",
      "Epoch 9: 1.130121\n",
      "Epoch 10: 1.050722\n",
      "Epoch 11: 0.989228\n",
      "Epoch 12: 0.938725\n",
      "Epoch 13: 0.889452\n",
      "Epoch 14: 0.840526\n",
      "Epoch 15: 0.809830\n",
      "Epoch 16: 0.789845\n",
      "Epoch 17: 0.764792\n",
      "Epoch 18: 0.744413\n",
      "Epoch 19: 0.724648\n",
      "Epoch 20: 0.705994\n",
      "Epoch 21: 0.691373\n",
      "Epoch 22: 0.678420\n",
      "Epoch 23: 0.663872\n",
      "Epoch 24: 0.654954\n",
      "Epoch 25: 0.642142\n",
      "Epoch 26: 0.631065\n",
      "Epoch 27: 0.620107\n",
      "Epoch 28: 0.607579\n",
      "Epoch 29: 0.599214\n",
      "Epoch 30: 0.587669\n",
      "Epoch 31: 0.579074\n",
      "Epoch 32: 0.573411\n",
      "Epoch 33: 0.564530\n",
      "Epoch 34: 0.555793\n",
      "Epoch 35: 0.552888\n",
      "Epoch 36: 0.543244\n",
      "Epoch 37: 0.538625\n",
      "Epoch 38: 0.534011\n",
      "Epoch 39: 0.526284\n",
      "Epoch 40: 0.523911\n",
      "Epoch 41: 0.537330\n",
      "Epoch 42: 0.595208\n",
      "Epoch 43: 0.521425\n",
      "Epoch 44: 0.515285\n",
      "Epoch 45: 0.521945\n",
      "Epoch 46: 0.522625\n",
      "Epoch 47: 0.491300\n",
      "Epoch 48: 0.493259\n",
      "Epoch 49: 0.469631\n",
      "Epoch 50: 0.480500\n",
      "Epoch 51: 0.459774\n",
      "Epoch 52: 0.474856\n",
      "Epoch 53: 0.450222\n",
      "Epoch 54: 0.461953\n",
      "Epoch 55: 0.438748\n",
      "Epoch 56: 0.446130\n",
      "Epoch 57: 0.428303\n",
      "Epoch 58: 0.444107\n",
      "Epoch 59: 0.421281\n",
      "Epoch 60: 0.425132\n",
      "Epoch 61: 0.414122\n",
      "Epoch 62: 0.472084\n",
      "Epoch 63: 0.418068\n",
      "Epoch 64: 0.409984\n",
      "Epoch 65: 0.409126\n",
      "Epoch 66: 0.404133\n",
      "Epoch 67: 0.403259\n",
      "Epoch 68: 0.394541\n",
      "Epoch 69: 0.398922\n",
      "Epoch 70: 0.387240\n",
      "Epoch 71: 0.392372\n",
      "Epoch 72: 0.384135\n",
      "Epoch 73: 0.385996\n",
      "Epoch 74: 0.391340\n",
      "Epoch 75: 0.375906\n",
      "Epoch 76: 0.395106\n",
      "Epoch 77: 0.375467\n",
      "Epoch 78: 0.395216\n",
      "Epoch 79: 0.402426\n",
      "Epoch 80: 0.408601\n",
      "Epoch 81: 0.430069\n",
      "Epoch 82: 0.815523\n",
      "Epoch 83: 0.421930\n",
      "Epoch 84: 0.390311\n",
      "Epoch 85: 0.385607\n",
      "Epoch 86: 0.391784\n",
      "Epoch 87: 0.385514\n",
      "Epoch 88: 0.382281\n",
      "Epoch 89: 0.381536\n",
      "Epoch 90: 0.378307\n",
      "Epoch 91: 0.376869\n",
      "Epoch 92: 0.375064\n",
      "Epoch 93: 0.375929\n",
      "Epoch 94: 0.377722\n",
      "Epoch 95: 0.374548\n",
      "Epoch 96: 0.375537\n",
      "Epoch 97: 0.377778\n",
      "Epoch 98: 0.381834\n",
      "Epoch 99: 0.385192\n",
      "Epoch 100: 0.381436\n",
      "Epoch 101: 0.424495\n",
      "Epoch 102: 0.565157\n",
      "Epoch 103: 0.395186\n",
      "Epoch 104: 0.379221\n",
      "Epoch 105: 0.379795\n",
      "Epoch 106: 0.365506\n",
      "Epoch 107: 0.348958\n",
      "Epoch 108: 0.343026\n",
      "Epoch 109: 0.341587\n",
      "Epoch 110: 0.335610\n",
      "Epoch 111: 0.326017\n",
      "Epoch 112: 0.323082\n",
      "Epoch 113: 0.317379\n",
      "Epoch 114: 0.313987\n",
      "Epoch 115: 0.310856\n",
      "Epoch 116: 0.305305\n",
      "Epoch 117: 0.300762\n",
      "Epoch 118: 0.295867\n",
      "Epoch 119: 0.293293\n",
      "Epoch 120: 0.291446\n",
      "Epoch 121: 0.291898\n",
      "Epoch 122: 0.347361\n",
      "Epoch 123: 0.306008\n",
      "Epoch 124: 0.288151\n",
      "Epoch 125: 0.281116\n",
      "Epoch 126: 0.278571\n",
      "Epoch 127: 0.274893\n",
      "Epoch 128: 0.273607\n",
      "Epoch 129: 0.271824\n",
      "Epoch 130: 0.271135\n",
      "Epoch 131: 0.270121\n",
      "Epoch 132: 0.268066\n",
      "Epoch 133: 0.263975\n",
      "Epoch 134: 0.262402\n",
      "Epoch 135: 0.260145\n",
      "Epoch 136: 0.257213\n",
      "Epoch 137: 0.256347\n",
      "Epoch 138: 0.253535\n",
      "Epoch 139: 0.250951\n",
      "Epoch 140: 0.249344\n",
      "Epoch 141: 0.251179\n",
      "Epoch 142: 0.336562\n",
      "Epoch 143: 0.284808\n",
      "Epoch 144: 0.250673\n",
      "Epoch 145: 0.244552\n",
      "Epoch 146: 0.244224\n",
      "Epoch 147: 0.244646\n",
      "Epoch 148: 0.241834\n",
      "Epoch 149: 0.238477\n",
      "Epoch 150: 0.234994\n",
      "Epoch 151: 0.233502\n",
      "Epoch 152: 0.231858\n",
      "Epoch 153: 0.229720\n",
      "Epoch 154: 0.227826\n",
      "Epoch 155: 0.226295\n",
      "Epoch 156: 0.226199\n",
      "Epoch 157: 0.223778\n",
      "Epoch 158: 0.221244\n",
      "Epoch 159: 0.221048\n",
      "Epoch 160: 0.217860\n",
      "Epoch 161: 0.226846\n",
      "Epoch 162: 0.382307\n",
      "Epoch 163: 0.271793\n",
      "Epoch 164: 0.230575\n",
      "Epoch 165: 0.206641\n",
      "Epoch 166: 0.204873\n",
      "Epoch 167: 0.207205\n",
      "Epoch 168: 0.204303\n",
      "Epoch 169: 0.204510\n",
      "Epoch 170: 0.202639\n",
      "Epoch 171: 0.202890\n",
      "Epoch 172: 0.197874\n",
      "Epoch 173: 0.195673\n",
      "Epoch 174: 0.195262\n",
      "Epoch 175: 0.193135\n",
      "Epoch 176: 0.191498\n",
      "Epoch 177: 0.189485\n",
      "Epoch 178: 0.187189\n",
      "Epoch 179: 0.185559\n",
      "Epoch 180: 0.183161\n",
      "Epoch 181: 0.187302\n",
      "Epoch 182: 0.334748\n",
      "Epoch 183: 0.252753\n",
      "Epoch 184: 0.204056\n",
      "Epoch 185: 0.180230\n",
      "Epoch 186: 0.175723\n",
      "Epoch 187: 0.176326\n",
      "Epoch 188: 0.178085\n",
      "Epoch 189: 0.178121\n",
      "\n",
      "Finished Training\n"
     ]
    },
    {
     "data": {
      "image/png": "[encoded data removed]",
      "text/plain": [
       "<Figure size 432x288 with 1 Axes>"
      ]
     },
     "metadata": {},
     "output_type": "display_data"
    }
   ],
   "source": [
    "optimizer.zero_grad()\n",
    "num_epochs = 190\n",
    "mini_batch_size = 64\n",
    "sign_model(X_train, Y_train, X_test, Y_test, learning_rate, \n",
    "           num_epochs,mini_batch_size=mini_batch_size, print_cost=False)"
   ]
  },
  {
   "cell_type": "code",
   "execution_count": 18,
   "metadata": {},
   "outputs": [],
   "source": [
    "#get_accuracy(X_train, Y_train)"
   ]
  },
  {
   "cell_type": "code",
   "execution_count": 19,
   "metadata": {},
   "outputs": [],
   "source": [
    "#get_accuracy(X_test, Y_test, \"Test\")"
   ]
  },
  {
   "cell_type": "code",
   "execution_count": 20,
   "metadata": {},
   "outputs": [
    {
     "name": "stderr",
     "output_type": "stream",
     "text": [
      "/Users/kofi/anaconda/envs/python36/lib/python3.6/site-packages/torch/serialization.py:241: UserWarning: Couldn't retrieve source code for container of type SignLangNet. It won't be checked for correctness upon loading.\n",
      "  \"type \" + obj.__name__ + \". It won't be checked \"\n"
     ]
    }
   ],
   "source": [
    "# Save the model\n",
    "torch.save(net, 'handsigns.pt')"
   ]
  },
  {
   "cell_type": "code",
   "execution_count": 21,
   "metadata": {},
   "outputs": [],
   "source": [
    "torch.save(net.state_dict(), 'handsigns-dict.pt')"
   ]
  },
  {
   "cell_type": "code",
   "execution_count": null,
   "metadata": {},
   "outputs": [],
   "source": []
  },
  {
   "cell_type": "code",
   "execution_count": 22,
   "metadata": {},
   "outputs": [
    {
     "data": {
      "text/plain": [
       "(64, 64, 3)"
      ]
     },
     "execution_count": 22,
     "metadata": {},
     "output_type": "execute_result"
    },
    {
     "data": {
      "image/png": "[encoded data removed]",
      "text/plain": [
       "<Figure size 432x288 with 1 Axes>"
      ]
     },
     "metadata": {},
     "output_type": "display_data"
    }
   ],
   "source": [
    "# create a dummy image to be passed as input to the onnx export \n",
    "img = Image.new('RGB', (IMG_HEIGHT, IMG_WIDTH), color = 'white') #(73, 109, 137))\n",
    "plt.imshow(img)\n",
    "\n",
    "# then convert image to a numpy array\n",
    "img_np = np.array(img)\n",
    "img_np.shape"
   ]
  },
  {
   "cell_type": "code",
   "execution_count": null,
   "metadata": {},
   "outputs": [],
   "source": [
    "#img_np = img_np[np.newaxis,:]\n",
    "#img_np.shape"
   ]
  },
  {
   "cell_type": "code",
   "execution_count": null,
   "metadata": {},
   "outputs": [],
   "source": [
    "#dummy_input = img_transforms(img_np) #torch.tensor(img_np.resha) \n",
    "#print(dummy_input.shape)\n",
    "#dummy_input = dummy_input.unsqueeze(0)\n",
    "#print(dummy_input.shape)"
   ]
  },
  {
   "cell_type": "code",
   "execution_count": 23,
   "metadata": {},
   "outputs": [
    {
     "name": "stdout",
     "output_type": "stream",
     "text": [
      "graph(%0 : Float(1, 3, 64, 64)\n",
      "      %1 : Float(8, 3, 4, 4)\n",
      "      %2 : Float(8)\n",
      "      %3 : Float(16, 8, 2, 2)\n",
      "      %4 : Float(16)\n",
      "      %5 : Float(6, 64)\n",
      "      %6 : Float(6)) {\n",
      "  %7 : Float(1, 3, 64, 64) = onnx::Cast[to=1](%0), scope: SignLangNet\n",
      "  %8 : Float(1, 8, 65, 65) = onnx::Conv[dilations=[1, 1], group=1, kernel_shape=[4, 4], pads=[2, 2, 2, 2], strides=[1, 1]](%7, %1, %2), scope: SignLangNet/Conv2d[conv1]\n",
      "  %9 : Float(1, 8, 65, 65) = onnx::Relu(%8), scope: SignLangNet\n",
      "  %10 : Float(1, 8, 8, 8) = onnx::MaxPool[kernel_shape=[8, 8], pads=[0, 0, 0, 0], strides=[8, 8]](%9), scope: SignLangNet\n",
      "  %11 : Float(1, 8, 8, 8) = onnx::Cast[to=1](%10), scope: SignLangNet\n",
      "  %12 : Float(1, 16, 9, 9) = onnx::Conv[dilations=[1, 1], group=1, kernel_shape=[2, 2], pads=[1, 1, 1, 1], strides=[1, 1]](%11, %3, %4), scope: SignLangNet/Conv2d[conv2]\n",
      "  %13 : Float(1, 16, 9, 9) = onnx::Relu(%12), scope: SignLangNet\n",
      "  %14 : Float(1, 16, 2, 2) = onnx::MaxPool[kernel_shape=[4, 4], pads=[0, 0, 0, 0], strides=[4, 4]](%13), scope: SignLangNet\n",
      "  %15 : Dynamic = onnx::Shape(%14), scope: SignLangNet\n",
      "  %16 : Dynamic = onnx::Slice[axes=[0], ends=[1], starts=[0]](%15), scope: SignLangNet\n",
      "  %17 : Long() = onnx::Squeeze[axes=[0]](%16), scope: SignLangNet\n",
      "  %18 : Long() = onnx::Constant[value={-1}](), scope: SignLangNet\n",
      "  %19 : Dynamic = onnx::Unsqueeze[axes=[0]](%17), scope: SignLangNet\n",
      "  %20 : Dynamic = onnx::Unsqueeze[axes=[0]](%18), scope: SignLangNet\n",
      "  %21 : Dynamic = onnx::Concat[axis=0](%19, %20), scope: SignLangNet\n",
      "  %22 : Float(1, 64) = onnx::Reshape(%14, %21), scope: SignLangNet\n",
      "  %23 : Float(1, 6) = onnx::Gemm[alpha=1, beta=1, broadcast=1, transB=1](%22, %5, %6), scope: SignLangNet/Linear[fc1]\n",
      "  return (%23);\n",
      "}\n",
      "\n"
     ]
    }
   ],
   "source": [
    "from torch.autograd import Variable\n",
    "#dummy_input = Variable(torch.randn(1,3,IMG_HEIGHT, IMG_WIDTH), requires_grad=True)\n",
    "dummy_input = Variable(torch.randint(0,255,(1,3,IMG_HEIGHT, IMG_WIDTH))/255., requires_grad=True)\n",
    "#dummy_input = torch.tensor(img_transforms(img_np)) \n",
    "#torch.FloatTensor(1, 3, IMG_HEIGHT, IMG_WIDTH), requires_grad=False)# #100))\n",
    "#print(dummy_input)\n",
    "\n",
    "# Export the model to onnx format\n",
    "net_state = net\n",
    "torch.onnx.export(net_state, dummy_input, 'handsigns.onnx', verbose=True)\n",
    "#model = onnx.load('SplitModel.proto')"
   ]
  },
  {
   "cell_type": "code",
   "execution_count": 24,
   "metadata": {},
   "outputs": [],
   "source": [
    "outputs = net(torch.tensor(dummy_input))"
   ]
  },
  {
   "cell_type": "code",
   "execution_count": 25,
   "metadata": {},
   "outputs": [
    {
     "data": {
      "text/plain": [
       "tensor([[ -0.9142, -31.9297,  -9.4601,   8.2851,   6.5866,   7.7506]],\n",
       "       grad_fn=<ThAddmmBackward>)"
      ]
     },
     "execution_count": 25,
     "metadata": {},
     "output_type": "execute_result"
    }
   ],
   "source": [
    "outputs"
   ]
  },
  {
   "cell_type": "code",
   "execution_count": null,
   "metadata": {},
   "outputs": [],
   "source": []
  }
 ],
 "metadata": {
  "kernelspec": {
   "display_name": "Python [python36]",
   "language": "python",
   "name": "Python [python36]"
  },
  "language_info": {
   "codemirror_mode": {
    "name": "ipython",
    "version": 3
   },
   "file_extension": ".py",
   "mimetype": "text/x-python",
   "name": "python",
   "nbconvert_exporter": "python",
   "pygments_lexer": "ipython3",
   "version": "3.6.2"
  }
 },
 "nbformat": 4,
 "nbformat_minor": 2
}
