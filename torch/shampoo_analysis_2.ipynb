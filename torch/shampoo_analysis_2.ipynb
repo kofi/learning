{
 "cells": [
  {
   "cell_type": "markdown",
   "metadata": {},
   "source": [
    "# Predicting Shampoo Sales using a simple Keras based LSTM model"
   ]
  },
  {
   "cell_type": "markdown",
   "metadata": {},
   "source": [
    "### Import Keras and other libraries"
   ]
  },
  {
   "cell_type": "code",
   "execution_count": 1,
   "metadata": {},
   "outputs": [
    {
     "name": "stderr",
     "output_type": "stream",
     "text": [
      "/Users/kofi/anaconda/envs/python36/lib/python3.6/site-packages/h5py/__init__.py:36: FutureWarning: Conversion of the second argument of issubdtype from `float` to `np.floating` is deprecated. In future, it will be treated as `np.float64 == np.dtype(float).type`.\n",
      "  from ._conv import register_converters as _register_converters\n",
      "Using TensorFlow backend.\n"
     ]
    }
   ],
   "source": [
    "## data processing libraries\n",
    "import pandas as pd\n",
    "from pandas import Series\n",
    "from pandas import DataFrame\n",
    "import numpy as np\n",
    "from pandas import read_csv\n",
    "from pandas import datetime\n",
    "\n",
    "# plotting libraries\n",
    "import matplotlib.pyplot as plt\n",
    "%matplotlib inline\n",
    "plt.rcParams['figure.figsize'] = [18, 16]\n",
    "import seaborn as sns\n",
    "sns.set()\n",
    "\n",
    "# ML frameworks\n",
    "from sklearn.metrics import mean_squared_error\n",
    "from sklearn.preprocessing import MinMaxScaler\n",
    "\n",
    "# .. with keras using the Tensorflow backend\n",
    "from keras.models import Sequential\n",
    "from keras.layers import Dense\n",
    "from keras.layers import LSTM\n",
    "from keras.optimizers import Adam\n",
    "from math import sqrt"
   ]
  },
  {
   "cell_type": "markdown",
   "metadata": {},
   "source": [
    "## define some helper functions"
   ]
  },
  {
   "cell_type": "code",
   "execution_count": 2,
   "metadata": {},
   "outputs": [],
   "source": [
    "# then define a parser for the datetime data\n",
    "def parser(x):\n",
    "    print(x)\n",
    "    return datetime.strptime('190'+x, '%Y-%m')\n",
    "\n",
    "# import the data from a specific csv path and return the dataset\n",
    "def process_data():\n",
    "    # import the data\n",
    "    shampoo = read_csv('../lstm/shampoo.csv', skiprows=1, names=['Month','Sales'], parse_dates=[0], squeeze = True) #, index_col=0) #, date_parser=parser)\n",
    "    shampoo.drop(shampoo.index[len(shampoo)-1], inplace= True)\n",
    "    shampoo['Month'] = '190' + shampoo['Month']\n",
    "    shampoo['Month'] = pd.to_datetime(shampoo['Month'], format='%Y-%m')\n",
    "    shampoo['Sales'] = pd.to_numeric(shampoo['Sales'])\n",
    "    shampoo.set_index('Month', inplace=True)\n",
    "    return shampoo\n",
    "\n",
    "# refactor a timeseries as lag dataset for input to the LSTM model\n",
    "def timeseries_to_supervised(data, lag=1):\n",
    "    df = pd.DataFrame(data)\n",
    "    columns = [df.shift(i) for i in range(lag, 0, -1)]\n",
    "    #print(columns)\n",
    "    columns.append(df)\n",
    "    df = pd.concat(columns, axis=1)\n",
    "    return df\n",
    "\n",
    "# For real valued input dataset take the difference of row values\n",
    "def difference(dataset, interval=1):\n",
    "    diff = list()\n",
    "    for i in range(interval, len(dataset)):\n",
    "        value = dataset[i] - dataset[i - interval]\n",
    "        diff.append(value)\n",
    "    return Series(diff)\n",
    "\n",
    "def scale(train, test):\n",
    "    # fit scaler\n",
    "    scaler = MinMaxScaler(feature_range=(-1, 1))\n",
    "    scaler = scaler.fit(train)\n",
    "    # transform train\n",
    "    train = train.reshape(train.shape[0], train.shape[1])\n",
    "    train_scaled = scaler.transform(train)\n",
    "    # transform test\n",
    "    test = test.reshape(test.shape[0], test.shape[1])\n",
    "    test_scaled = scaler.transform(test)\n",
    "    return scaler, train_scaled, test_scaled"
   ]
  },
  {
   "cell_type": "code",
   "execution_count": 3,
   "metadata": {},
   "outputs": [
    {
     "data": {
      "text/html": [
       "<div>\n",
       "<style scoped>\n",
       "    .dataframe tbody tr th:only-of-type {\n",
       "        vertical-align: middle;\n",
       "    }\n",
       "\n",
       "    .dataframe tbody tr th {\n",
       "        vertical-align: top;\n",
       "    }\n",
       "\n",
       "    .dataframe thead th {\n",
       "        text-align: right;\n",
       "    }\n",
       "</style>\n",
       "<table border=\"1\" class=\"dataframe\">\n",
       "  <thead>\n",
       "    <tr style=\"text-align: right;\">\n",
       "      <th></th>\n",
       "      <th>Sales</th>\n",
       "    </tr>\n",
       "    <tr>\n",
       "      <th>Month</th>\n",
       "      <th></th>\n",
       "    </tr>\n",
       "  </thead>\n",
       "  <tbody>\n",
       "    <tr>\n",
       "      <th>1901-01-01</th>\n",
       "      <td>266.0</td>\n",
       "    </tr>\n",
       "    <tr>\n",
       "      <th>1901-02-01</th>\n",
       "      <td>145.9</td>\n",
       "    </tr>\n",
       "    <tr>\n",
       "      <th>1901-03-01</th>\n",
       "      <td>183.1</td>\n",
       "    </tr>\n",
       "    <tr>\n",
       "      <th>1901-04-01</th>\n",
       "      <td>119.3</td>\n",
       "    </tr>\n",
       "    <tr>\n",
       "      <th>1901-05-01</th>\n",
       "      <td>180.3</td>\n",
       "    </tr>\n",
       "  </tbody>\n",
       "</table>\n",
       "</div>"
      ],
      "text/plain": [
       "            Sales\n",
       "Month            \n",
       "1901-01-01  266.0\n",
       "1901-02-01  145.9\n",
       "1901-03-01  183.1\n",
       "1901-04-01  119.3\n",
       "1901-05-01  180.3"
      ]
     },
     "execution_count": 3,
     "metadata": {},
     "output_type": "execute_result"
    }
   ],
   "source": [
    "# create the dataset from csv file and take a look at it\n",
    "shampoo = process_data()\n",
    "shampoo.head()"
   ]
  },
  {
   "cell_type": "code",
   "execution_count": 4,
   "metadata": {},
   "outputs": [
    {
     "data": {
      "image/png": "[encoded data removed]",
      "text/plain": [
       "<Figure size 360x360 with 1 Axes>"
      ]
     },
     "metadata": {},
     "output_type": "display_data"
    }
   ],
   "source": [
    "# Plot sales against the month\n",
    "#plt.plot(shampoo.Sales)\n",
    "#plt.figure(figsize=(20,30))\n",
    "g = sns.relplot(x=\"Month\", y=\"Sales\", kind=\"line\", data=shampoo.reset_index())\n",
    "#g.figure(figsize=(20,30))\n",
    "g.fig.autofmt_xdate()"
   ]
  },
  {
   "cell_type": "code",
   "execution_count": 5,
   "metadata": {},
   "outputs": [
    {
     "name": "stdout",
     "output_type": "stream",
     "text": [
      "0                   [-82.9]\n",
      "1      [-26.60000000000001]\n",
      "2      [-2.799999999999983]\n",
      "3                    [49.2]\n",
      "4                    [51.5]\n",
      "5                    [56.0]\n",
      "6                   [-39.0]\n",
      "7                  [-101.6]\n",
      "8                   [143.7]\n",
      "9                    [63.0]\n",
      "10                 [-142.2]\n",
      "11    [-36.400000000000006]\n",
      "12     [15.799999999999983]\n",
      "13     [123.80000000000001]\n",
      "14     [-18.69999999999999]\n",
      "15     [13.699999999999989]\n",
      "16     [34.599999999999994]\n",
      "17     [16.600000000000023]\n",
      "18      [63.89999999999998]\n",
      "19                  [118.0]\n",
      "20    [-25.399999999999977]\n",
      "21     [-79.30000000000001]\n",
      "22      [75.19999999999999]\n",
      "23      [98.09999999999997]\n",
      "24     [-23.80000000000001]\n",
      "25     [-1.099999999999966]\n",
      "26      [85.40000000000003]\n",
      "27     [-1.900000000000034]\n",
      "28                  [174.2]\n",
      "29    [-29.799999999999955]\n",
      "30                  [106.5]\n",
      "31      [67.69999999999999]\n",
      "32    [-100.70000000000005]\n",
      "33     [171.59999999999997]\n",
      "dtype: object\n"
     ]
    }
   ],
   "source": [
    "# Define the lag interval to use\n",
    "lag = 2 # 2 here means take the difference every two time steps away\n",
    "raw_values = shampoo.values\n",
    "# create the corresponding difference series\n",
    "diff_shampoo = difference(raw_values, lag)\n",
    "print(diff_shampoo)"
   ]
  },
  {
   "cell_type": "code",
   "execution_count": 6,
   "metadata": {},
   "outputs": [
    {
     "data": {
      "text/html": [
       "<div>\n",
       "<style scoped>\n",
       "    .dataframe tbody tr th:only-of-type {\n",
       "        vertical-align: middle;\n",
       "    }\n",
       "\n",
       "    .dataframe tbody tr th {\n",
       "        vertical-align: top;\n",
       "    }\n",
       "\n",
       "    .dataframe thead th {\n",
       "        text-align: right;\n",
       "    }\n",
       "</style>\n",
       "<table border=\"1\" class=\"dataframe\">\n",
       "  <thead>\n",
       "    <tr style=\"text-align: right;\">\n",
       "      <th></th>\n",
       "      <th>0</th>\n",
       "      <th>0</th>\n",
       "      <th>0</th>\n",
       "    </tr>\n",
       "  </thead>\n",
       "  <tbody>\n",
       "    <tr>\n",
       "      <th>0</th>\n",
       "      <td>NaN</td>\n",
       "      <td>NaN</td>\n",
       "      <td>[-82.9]</td>\n",
       "    </tr>\n",
       "    <tr>\n",
       "      <th>1</th>\n",
       "      <td>NaN</td>\n",
       "      <td>[-82.9]</td>\n",
       "      <td>[-26.60000000000001]</td>\n",
       "    </tr>\n",
       "    <tr>\n",
       "      <th>2</th>\n",
       "      <td>[-82.9]</td>\n",
       "      <td>[-26.60000000000001]</td>\n",
       "      <td>[-2.799999999999983]</td>\n",
       "    </tr>\n",
       "    <tr>\n",
       "      <th>3</th>\n",
       "      <td>[-26.60000000000001]</td>\n",
       "      <td>[-2.799999999999983]</td>\n",
       "      <td>[49.2]</td>\n",
       "    </tr>\n",
       "    <tr>\n",
       "      <th>4</th>\n",
       "      <td>[-2.799999999999983]</td>\n",
       "      <td>[49.2]</td>\n",
       "      <td>[51.5]</td>\n",
       "    </tr>\n",
       "  </tbody>\n",
       "</table>\n",
       "</div>"
      ],
      "text/plain": [
       "                      0                     0                     0\n",
       "0                   NaN                   NaN               [-82.9]\n",
       "1                   NaN               [-82.9]  [-26.60000000000001]\n",
       "2               [-82.9]  [-26.60000000000001]  [-2.799999999999983]\n",
       "3  [-26.60000000000001]  [-2.799999999999983]                [49.2]\n",
       "4  [-2.799999999999983]                [49.2]                [51.5]"
      ]
     },
     "execution_count": 6,
     "metadata": {},
     "output_type": "execute_result"
    }
   ],
   "source": [
    "# then convert the series to a dataset\n",
    "sup_shampoo = timeseries_to_supervised(diff_shampoo, lag)\n",
    "sup_shampoo.head()\n",
    "#sup_shampoo.drop(sup_shampoo.index[:lag], inplace=True)"
   ]
  },
  {
   "cell_type": "code",
   "execution_count": 7,
   "metadata": {},
   "outputs": [
    {
     "data": {
      "text/html": [
       "<div>\n",
       "<style scoped>\n",
       "    .dataframe tbody tr th:only-of-type {\n",
       "        vertical-align: middle;\n",
       "    }\n",
       "\n",
       "    .dataframe tbody tr th {\n",
       "        vertical-align: top;\n",
       "    }\n",
       "\n",
       "    .dataframe thead th {\n",
       "        text-align: right;\n",
       "    }\n",
       "</style>\n",
       "<table border=\"1\" class=\"dataframe\">\n",
       "  <thead>\n",
       "    <tr style=\"text-align: right;\">\n",
       "      <th></th>\n",
       "      <th>sales_0</th>\n",
       "      <th>sales_1</th>\n",
       "      <th>sales_2</th>\n",
       "    </tr>\n",
       "  </thead>\n",
       "  <tbody>\n",
       "    <tr>\n",
       "      <th>0</th>\n",
       "      <td>NaN</td>\n",
       "      <td>NaN</td>\n",
       "      <td>[-82.9]</td>\n",
       "    </tr>\n",
       "    <tr>\n",
       "      <th>1</th>\n",
       "      <td>NaN</td>\n",
       "      <td>[-82.9]</td>\n",
       "      <td>[-26.60000000000001]</td>\n",
       "    </tr>\n",
       "    <tr>\n",
       "      <th>2</th>\n",
       "      <td>[-82.9]</td>\n",
       "      <td>[-26.60000000000001]</td>\n",
       "      <td>[-2.799999999999983]</td>\n",
       "    </tr>\n",
       "    <tr>\n",
       "      <th>3</th>\n",
       "      <td>[-26.60000000000001]</td>\n",
       "      <td>[-2.799999999999983]</td>\n",
       "      <td>[49.2]</td>\n",
       "    </tr>\n",
       "    <tr>\n",
       "      <th>4</th>\n",
       "      <td>[-2.799999999999983]</td>\n",
       "      <td>[49.2]</td>\n",
       "      <td>[51.5]</td>\n",
       "    </tr>\n",
       "  </tbody>\n",
       "</table>\n",
       "</div>"
      ],
      "text/plain": [
       "                sales_0               sales_1               sales_2\n",
       "0                   NaN                   NaN               [-82.9]\n",
       "1                   NaN               [-82.9]  [-26.60000000000001]\n",
       "2               [-82.9]  [-26.60000000000001]  [-2.799999999999983]\n",
       "3  [-26.60000000000001]  [-2.799999999999983]                [49.2]\n",
       "4  [-2.799999999999983]                [49.2]                [51.5]"
      ]
     },
     "execution_count": 7,
     "metadata": {},
     "output_type": "execute_result"
    }
   ],
   "source": [
    "# change the column names to more descriptive names\n",
    "sup_shampoo.columns = np.array(['sales_%s'%(x) for x in range(0, lag+1)])\n",
    "sup_shampoo.head()"
   ]
  },
  {
   "cell_type": "code",
   "execution_count": 8,
   "metadata": {},
   "outputs": [
    {
     "name": "stdout",
     "output_type": "stream",
     "text": [
      "(32, 3)\n"
     ]
    }
   ],
   "source": [
    "sup_shampoo_values = sup_shampoo.values[lag:,:]\n",
    "print(sup_shampoo_values.shape)"
   ]
  },
  {
   "cell_type": "code",
   "execution_count": 9,
   "metadata": {},
   "outputs": [
    {
     "name": "stderr",
     "output_type": "stream",
     "text": [
      "/Users/kofi/anaconda/envs/python36/lib/python3.6/site-packages/sklearn/utils/validation.py:475: DataConversionWarning: Data with input dtype object was converted to float64 by MinMaxScaler.\n",
      "  warnings.warn(msg, DataConversionWarning)\n"
     ]
    }
   ],
   "source": [
    "# train test split\n",
    "train, test = sup_shampoo_values[:-12,:], sup_shampoo_values[-12:,:]\n",
    "# then scale the data using the sklearn scaler\n",
    "scaler, train_scaled, test_scaled = scale(train, test)"
   ]
  },
  {
   "cell_type": "code",
   "execution_count": 10,
   "metadata": {},
   "outputs": [],
   "source": [
    "def plot_training_stats(param_history, prefix):\n",
    "    '''\n",
    "        Expects a param_history dictionary with keys = the different values of the hyperparameter\n",
    "        prefix: (string) name of the hyperparameter\n",
    "    '''\n",
    "    #label_vals = history.keys()\n",
    "    #labels = ['%s = %d'.format(prefix, x) for x in label_vals]\n",
    "    metrics = {'mean_squared_error':'Mean Squared Error', 'loss' : 'Loss'}\n",
    "    \n",
    "#   if type(history) == list :\n",
    "#       history = history_list_dataframe(history)\n",
    "#   else:\n",
    "#    history = history_list_dataframe(history) if type(history) == list else  history.history\n",
    "\n",
    "        \n",
    "    for metric_key, metric_value in metrics.items():\n",
    "        # summarize history for loss\n",
    "        for param_value, history in param_history.items():\n",
    "            # get back the right history datastructure back\n",
    "            history = history_list_dataframe(history) if type(history) == list else  history.history\n",
    "            if metric_key in history:\n",
    "                plt.plot(history[metric_key], label='%s = %.2f' %(prefix, param_value ))\n",
    "        plt.title('%s vs. %s' % (metric_value, prefix))\n",
    "        plt.ylabel(metric_value)\n",
    "        plt.xlabel('epoch')\n",
    "        plt.legend(loc='upper left') #['train'], loc='upper left')\n",
    "        plt.show()\n",
    "\n",
    "#     # summarize history for loss\n",
    "#     if 'loss' in history:\n",
    "#         plt.plot(history['loss'])\n",
    "#         plt.title('Loss')\n",
    "#         plt.ylabel('loss')\n",
    "#         plt.xlabel('epoch')\n",
    "#         plt.legend(['train'], loc='upper left')\n",
    "#         plt.show()\n",
    "\n",
    "# since we dont have a contiguous history object transform it into a dataframe for plotting \n",
    "def history_list_dataframe(history):\n",
    "    new_data = []\n",
    "    col_keys = history[0].history.keys() \n",
    "    for h in history:\n",
    "        arr = []\n",
    "        #print(h)\n",
    "        for k in h.history.keys():\n",
    "            #arr.append({k: h.history[k][0]})\n",
    "            arr.append(h.history[k][0])\n",
    "        new_data.append(arr) #h.history)\n",
    "    \n",
    "    return pd.DataFrame(new_data, columns = col_keys)\n",
    "        "
   ]
  },
  {
   "cell_type": "code",
   "execution_count": 11,
   "metadata": {},
   "outputs": [],
   "source": [
    "def fit_lstm(train, batch_size, nb_epoch, neurons, timesteps, adam_opts):\n",
    "    ''' Define a Sequential LSTM network and provide the modeling parameters &\n",
    "        hyperparameters. It fits the model on the training data and returns both the model\n",
    "        and a history object containing the metrics specificied with the selected optimizer\n",
    "    '''\n",
    "    # this is a sequence to single value model not a sequence to sequence\n",
    "    # the y value is  last column of the dataset\n",
    "    X, y = train[:, 0:-1], train[:, -1]\n",
    "    X = X.reshape(X.shape[0], timesteps, 1)\n",
    "    model = Sequential()\n",
    "    # in case we wanted to add a preceding ordinary network layer\n",
    "    #model.add(Dense(neurons,batch_input_shape=(batch_size, X.shape[1], X.shape[2])))\n",
    "    #model.add(LSTM(neurons,stateful=True))\n",
    "    # add the LSTM Layer with the right input size and batch size\n",
    "    # See https://stackoverflow.com/questions/43882796/when-does-keras-reset-an-lstm-state \n",
    "    # for a good explanation of the Stateful= False or True\n",
    "    model.add(LSTM(neurons, batch_input_shape=(batch_size, X.shape[1], X.shape[2]), stateful=True))\n",
    "    # return a simple dense layer with no activation ==> linear output after the dot product of the weight y = w.x\n",
    "    model.add(Dense(1))\n",
    "    adam = Adam(lr=adam_opts['lr'],\n",
    "                    beta_1=adam_opts['b1'], beta_2=adam_opts['b2'], epsilon=1e-8)\n",
    "    model.compile(loss='mean_squared_error', optimizer=adam,metrics=['mae', 'mse'])\n",
    "    run_history = []\n",
    "    \n",
    "\n",
    "    for i in range(nb_epoch):\n",
    "        # states are not cleared and the same state is used for each specific sequence in each batch\n",
    "        history = model.fit(X, y, epochs=1, batch_size=batch_size, verbose=0, shuffle=False,)\n",
    "        #print('Epoch % : Loss is %'.format(i,history.history['acc']))\n",
    "        #print([history.  history.history['acc']])\n",
    "        #plot_training_stats(history)\n",
    "        run_history.append(history)\n",
    "        # make sure to reset the state after each epoch\n",
    "        model.reset_states()\n",
    "    history = history.history\n",
    "    print('Final Loss: %.3f' % (history['loss'][0]))\n",
    "    print('Final MSE: %.3f' % (history['mean_squared_error'][0]))\n",
    "    print('Final MAE: %.3f' % (history['mean_absolute_error'][0]))\n",
    "    return (model, run_history)"
   ]
  },
  {
   "cell_type": "code",
   "execution_count": 12,
   "metadata": {},
   "outputs": [],
   "source": [
    "# define the LSTM model parameters\n",
    "batch_size = 1\n",
    "nb_epochs = [100,1000, 5000]\n",
    "neurons = [20,100,1000]\n",
    "adam_opts = [{'lr':.001, 'b1': 0.9, 'b2':0.999}, \n",
    "             {'lr':.01, 'b1': 0.9, 'b2':0.999},\n",
    "             {'lr':.1, 'b1': 0.9, 'b2':0.999}]"
   ]
  },
  {
   "cell_type": "code",
   "execution_count": 13,
   "metadata": {},
   "outputs": [
    {
     "name": "stdout",
     "output_type": "stream",
     "text": [
      "Starting model fit for lr: 0.001000\n",
      "Final Loss: 0.000\n",
      "Final MSE: 0.000\n",
      "Final MAE: 0.010\n",
      "Starting model fit for lr: 0.010000\n",
      "Final Loss: 0.002\n",
      "Final MSE: 0.002\n",
      "Final MAE: 0.042\n",
      "Starting model fit for lr: 0.100000\n",
      "Final Loss: 0.512\n",
      "Final MSE: 0.512\n",
      "Final MAE: 0.552\n"
     ]
    },
    {
     "data": {
      "image/png": "[encoded data removed]",
      "text/plain": [
       "<Figure size 432x288 with 1 Axes>"
      ]
     },
     "metadata": {},
     "output_type": "display_data"
    },
    {
     "data": {
      "image/png": "[encoded data removed]",
      "text/plain": [
       "<Figure size 432x288 with 1 Axes>"
      ]
     },
     "metadata": {},
     "output_type": "display_data"
    }
   ],
   "source": [
    "# Explore the impact of the Learning Rate\n",
    "all_history = {}\n",
    "for a_opt in adam_opts:\n",
    "    print('Starting model fit for lr: %6f' % (a_opt['lr']))\n",
    "    # fit the base model\n",
    "    lstm_model, h = fit_lstm(train_scaled, batch_size, 5000, 100, lag, a_opt)\n",
    "    all_history[a_opt['lr']]= h\n",
    "#then plot the results\n",
    "plot_training_stats(all_history, 'Learning Rate')"
   ]
  },
  {
   "cell_type": "code",
   "execution_count": 14,
   "metadata": {},
   "outputs": [
    {
     "ename": "SyntaxError",
     "evalue": "invalid syntax (<ipython-input-14-9879d332ec96>, line 1)",
     "output_type": "error",
     "traceback": [
      "\u001b[0;36m  File \u001b[0;32m\"<ipython-input-14-9879d332ec96>\"\u001b[0;36m, line \u001b[0;32m1\u001b[0m\n\u001b[0;31m    lstm_model.metrics.\u001b[0m\n\u001b[0m                       ^\u001b[0m\n\u001b[0;31mSyntaxError\u001b[0m\u001b[0;31m:\u001b[0m invalid syntax\n"
     ]
    }
   ],
   "source": [
    "lstm_model.metrics."
   ]
  },
  {
   "cell_type": "code",
   "execution_count": null,
   "metadata": {},
   "outputs": [],
   "source": [
    "# Explore the impact of the Number of Epochs\n",
    "all_history = {}\n",
    "for ep in nb_epochs:\n",
    "    print('Starting model fit for epochs: %3f' % (ep))\n",
    "    # fit the base model\n",
    "    lstm_model, h = fit_lstm(train_scaled, batch_size, ep, 100, lag, {'lr':.001, 'b1': 0.9, 'b2':0.999} )\n",
    "    all_history[ep]= h\n",
    "#then plot the results\n",
    "plot_training_stats(all_history, 'Number of Epochs')"
   ]
  },
  {
   "cell_type": "code",
   "execution_count": null,
   "metadata": {},
   "outputs": [],
   "source": [
    "# Explore the impact of the Number of Neurons\n",
    "all_history = {}\n",
    "for ne in neurons:\n",
    "    print('Starting model fit for epochs: %3f' % (ne))\n",
    "    # fit the base model\n",
    "    lstm_model, h = fit_lstm(train_scaled, batch_size, 5000, ne, lag, {'lr':.001, 'b1': 0.9, 'b2':0.999} )\n",
    "    all_history[ne]= h\n",
    "#then plot the results\n",
    "plot_training_stats(all_history, 'Number of Neurons')"
   ]
  },
  {
   "cell_type": "code",
   "execution_count": null,
   "metadata": {},
   "outputs": [],
   "source": [
    "def inverse_difference(history, yhat, interval=1):\n",
    "    return yhat + history[-interval]\n",
    "\n",
    "# inverse scaling for a forecasted value\n",
    "def forecast_lstm(model, batch_size, X):\n",
    "    X = X.reshape(1, len(X), 1)\n",
    "    yhat = model.predict(X, batch_size=batch_size)\n",
    "    return yhat[0,0]\n",
    "\n",
    "def invert_scale(scaler, X, yhat):\n",
    "    new_row = [x for x in X] + [yhat]\n",
    "    array = np.array(new_row)\n",
    "    array = array.reshape(1, len(array))\n",
    "    inverted = scaler.inverse_transform(array)\n",
    "    return inverted[0, -1]"
   ]
  },
  {
   "cell_type": "code",
   "execution_count": null,
   "metadata": {},
   "outputs": [],
   "source": [
    "predictions = list()\n",
    "error_scores = list()\n",
    "for i in range(len(test_scaled)):\n",
    "    # predict\n",
    "    X, y = test_scaled[i, 0:-1], test_scaled[i, -1]\n",
    "    yhat = forecast_lstm(lstm_model, 1, X)\n",
    "    # invert scaling\n",
    "    yhat = invert_scale(scaler, X, yhat)\n",
    "    # invert differencing\n",
    "    yhat = inverse_difference(raw_values, yhat, len(test_scaled)+1-i)\n",
    "    # store forecast\n",
    "    predictions.append(yhat)\n",
    "# report performance\n",
    "rmse = sqrt(mean_squared_error(raw_values[-12:], predictions))\n",
    "print('%d) Test RMSE: %.3f' % (1+1, rmse))\n",
    "error_scores.append(rmse)"
   ]
  }
 ],
 "metadata": {
  "kernelspec": {
   "display_name": "Python [python36]",
   "language": "python",
   "name": "Python [python36]"
  },
  "language_info": {
   "codemirror_mode": {
    "name": "ipython",
    "version": 3
   },
   "file_extension": ".py",
   "mimetype": "text/x-python",
   "name": "python",
   "nbconvert_exporter": "python",
   "pygments_lexer": "ipython3",
   "version": "3.6.2"
  }
 },
 "nbformat": 4,
 "nbformat_minor": 2
}
