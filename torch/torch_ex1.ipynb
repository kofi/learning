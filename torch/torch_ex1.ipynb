{
 "cells": [
  {
   "cell_type": "markdown",
   "metadata": {},
   "source": [
    "## Network definition\n",
    "Class definition to create a CNN"
   ]
  },
  {
   "cell_type": "code",
   "execution_count": 38,
   "metadata": {},
   "outputs": [],
   "source": [
    "import torch\n",
    "import torch.nn as nn\n",
    "import torch.nn.functional as F\n",
    "import torch.optim as optim\n",
    "\n",
    "\n",
    "class Net(nn.Module):\n",
    "\n",
    "    def __init__(self):\n",
    "        super(Net, self).__init__()\n",
    "        # 1 input image channel, 6 output channels, 5x5 square convolution\n",
    "        # kernel\n",
    "        self.conv1 = nn.Conv2d(1, 6, 5)\n",
    "        self.conv2 = nn.Conv2d(6, 16, 5)\n",
    "        # an affine operation: y = Wx + b\n",
    "        self.fc1 = nn.Linear(16 * 5 * 5, 120)\n",
    "        self.fc2 = nn.Linear(120, 84)\n",
    "        self.fc3 = nn.Linear(84, 10)\n",
    "\n",
    "    def forward(self, x):\n",
    "        # Max pooling over a (2, 2) window\n",
    "        x = F.max_pool2d(F.relu(self.conv1(x)), (2, 2))\n",
    "        # If the size is a square you can only specify a single number\n",
    "        x = F.max_pool2d(F.relu(self.conv2(x)), 2)\n",
    "        x = x.view(-1, self.num_flat_features(x))\n",
    "        x = F.relu(self.fc1(x))\n",
    "        x = F.relu(self.fc2(x))\n",
    "        x = self.fc3(x)\n",
    "        return x\n",
    "\n",
    "    def num_flat_features(self, x):\n",
    "        size = x.size()[1:]  # all dimensions except the batch dimension\n",
    "        num_features = 1\n",
    "        for s in size:\n",
    "            num_features *= s\n",
    "        return num_features\n",
    "\n"
   ]
  },
  {
   "cell_type": "markdown",
   "metadata": {},
   "source": [
    "### Print out the network features"
   ]
  },
  {
   "cell_type": "code",
   "execution_count": 39,
   "metadata": {},
   "outputs": [
    {
     "name": "stdout",
     "output_type": "stream",
     "text": [
      "Net(\n",
      "  (conv1): Conv2d(1, 6, kernel_size=(5, 5), stride=(1, 1))\n",
      "  (conv2): Conv2d(6, 16, kernel_size=(5, 5), stride=(1, 1))\n",
      "  (fc1): Linear(in_features=400, out_features=120, bias=True)\n",
      "  (fc2): Linear(in_features=120, out_features=84, bias=True)\n",
      "  (fc3): Linear(in_features=84, out_features=10, bias=True)\n",
      ")\n",
      "10\n",
      "torch.Size([6, 1, 5, 5])\n"
     ]
    }
   ],
   "source": [
    "# then print the network\n",
    "net = Net()\n",
    "print(net)\n",
    "\n",
    "params = list(net.parameters())\n",
    "print(len(params))\n",
    "print(params[0].size())"
   ]
  },
  {
   "cell_type": "markdown",
   "metadata": {},
   "source": [
    "### Run the forward network"
   ]
  },
  {
   "cell_type": "code",
   "execution_count": 40,
   "metadata": {},
   "outputs": [
    {
     "name": "stdout",
     "output_type": "stream",
     "text": [
      "tensor([ 1.1089,  0.9632,  2.2223, -0.5319, -1.7364, -1.9147,  2.3541, -0.8722,\n",
      "        -0.8328,  0.8116])\n",
      "tensor([[ 1.1089,  0.9632,  2.2223, -0.5319, -1.7364, -1.9147,  2.3541, -0.8722,\n",
      "         -0.8328,  0.8116]])\n",
      "tensor([[-0.0186,  0.0869,  0.0664,  0.0808,  0.0520,  0.0057,  0.0032, -0.0037,\n",
      "          0.1646,  0.0482]], grad_fn=<ThAddmmBackward>)\n"
     ]
    }
   ],
   "source": [
    "input = torch.randn(1,1,32,32)\n",
    "target = torch.randn(10)\n",
    "print(target)\n",
    "target = target.view(1,-1)\n",
    "print(target)\n",
    "output = net(input)\n",
    "print(output)"
   ]
  },
  {
   "cell_type": "markdown",
   "metadata": {},
   "source": [
    "### Compute the loss function"
   ]
  },
  {
   "cell_type": "code",
   "execution_count": 41,
   "metadata": {},
   "outputs": [
    {
     "name": "stdout",
     "output_type": "stream",
     "text": [
      "tensor(2.1807, grad_fn=<MseLossBackward>)\n",
      "\n",
      "<MseLossBackward object at 0x1225bff28>\n",
      "<ThAddmmBackward object at 0x1225e2940>\n"
     ]
    }
   ],
   "source": [
    "# set the type of loss we want\n",
    "criterion  = nn.MSELoss()\n",
    "\n",
    "# ... then compute the cost\n",
    "loss = criterion(output,target)\n",
    "print(loss)\n",
    "print()\n",
    "\n",
    "# print the loss gradient function\n",
    "print(loss.grad_fn)\n",
    "print(loss.grad_fn.next_functions[0][0])\n"
   ]
  },
  {
   "cell_type": "markdown",
   "metadata": {},
   "source": [
    "### Run the backward network and compute gradients"
   ]
  },
  {
   "cell_type": "code",
   "execution_count": 42,
   "metadata": {},
   "outputs": [
    {
     "name": "stdout",
     "output_type": "stream",
     "text": [
      "Parameter containing:\n",
      "tensor([[ 0.0400,  0.0066, -0.0470,  ...,  0.0185, -0.0099,  0.0482],\n",
      "        [ 0.0245, -0.0361, -0.0487,  ..., -0.0323,  0.0277, -0.0156],\n",
      "        [ 0.0143, -0.0211,  0.0251,  ...,  0.0365,  0.0321,  0.0488],\n",
      "        ...,\n",
      "        [-0.0129,  0.0295,  0.0476,  ...,  0.0083, -0.0265,  0.0416],\n",
      "        [-0.0146, -0.0217,  0.0301,  ...,  0.0192, -0.0221,  0.0460],\n",
      "        [ 0.0082,  0.0436,  0.0106,  ..., -0.0498, -0.0082, -0.0424]],\n",
      "       requires_grad=True)\n"
     ]
    }
   ],
   "source": [
    "# print network parameters again\n",
    "print(net.fc1.weight)\n",
    "\n",
    "manually = False \n",
    "# Zero out all gradient buffers \n",
    "net.zero_grad()\n",
    "if manually:\n",
    "\n",
    "\n",
    "    print('conv1.bias.grad before backward')\n",
    "    print(net.conv1.bias.grad)\n",
    "\n",
    "    # run the backward prop step\n",
    "    loss.backward(retain_graph=False)\n",
    "\n",
    "    print('conv1.bias.grad after backward')\n",
    "    print(net.conv1.bias.grad)\n",
    "\n",
    "\n"
   ]
  },
  {
   "cell_type": "markdown",
   "metadata": {},
   "source": [
    "### Recompute & Update the weights based on errors"
   ]
  },
  {
   "cell_type": "code",
   "execution_count": 43,
   "metadata": {},
   "outputs": [],
   "source": [
    "learning_rate = 0.01\n",
    "\n",
    "# doing it manually here\n",
    "if manually:\n",
    "    for f in net.parameters():\n",
    "        # for each data subtract the product of the grad of the data and the learning rate from the data\n",
    "        #.sub_ is to subtract\n",
    "        f.data.sub_(f.grad.data * learning_rate)\n",
    "    \n"
   ]
  },
  {
   "cell_type": "markdown",
   "metadata": {},
   "source": [
    "### Alternatively use inbuilt optimizers to do the gradient descent"
   ]
  },
  {
   "cell_type": "code",
   "execution_count": 44,
   "metadata": {},
   "outputs": [],
   "source": [
    "if not manually:\n",
    "    optimizer = optim.SGD(net.parameters(), lr = learning_rate)\n",
    "\n",
    "    # training loop\n",
    "    loss = criterion(output, target)\n",
    "    loss.backward()\n",
    "    optimizer.step()\n",
    "    "
   ]
  }
 ],
 "metadata": {
  "kernelspec": {
   "display_name": "Python [python36]",
   "language": "python",
   "name": "Python [python36]"
  },
  "language_info": {
   "codemirror_mode": {
    "name": "ipython",
    "version": 3
   },
   "file_extension": ".py",
   "mimetype": "text/x-python",
   "name": "python",
   "nbconvert_exporter": "python",
   "pygments_lexer": "ipython3",
   "version": "3.6.2"
  }
 },
 "nbformat": 4,
 "nbformat_minor": 2
}
